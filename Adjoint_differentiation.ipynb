{
 "cells": [
  {
   "cell_type": "code",
   "execution_count": 1,
   "id": "77f62c43",
   "metadata": {},
   "outputs": [],
   "source": [
    "import functools\n",
    "import json\n",
    "import math\n",
    "import pandas as pd\n",
    "import pennylane as qml\n",
    "import pennylane.numpy as np\n",
    "import scipy"
   ]
  },
  {
   "cell_type": "code",
   "execution_count": 2,
   "id": "14a24c07",
   "metadata": {},
   "outputs": [],
   "source": [
    "def generator_info(operator):\n",
    "    \"\"\"Provides the generator of a given operator.\n",
    "\n",
    "    Args:\n",
    "        operator (qml.ops): A PennyLane operator\n",
    "\n",
    "    Returns:\n",
    "        (qml.ops): The generator of the operator.\n",
    "        (float): The coefficient of the generator.\n",
    "    \"\"\"\n",
    "    gen = qml.generator(operator, format=\"observable\")\n",
    "    return gen.ops[0], gen.coeffs[0]"
   ]
  },
  {
   "cell_type": "code",
   "execution_count": 3,
   "id": "5c92aa9a",
   "metadata": {},
   "outputs": [],
   "source": [
    "def derivative(op_order, params, diff_idx, wires, measured_wire):\n",
    "    \"\"\"A function that calculates the derivative of a circuit w.r.t. one parameter.\n",
    "\n",
    "    NOTE: you cannot use qml.grad in this function.\n",
    "\n",
    "    Args:\n",
    "        op_order (list(int)):\n",
    "            This is a list of integers that defines the circuit in question.\n",
    "            The entries of this list correspond to dictionary keys to op_dict.\n",
    "            For example, [1,0,2] means that the circuit in question contains\n",
    "            an RY gate, an RX gate, and an RZ gate in that order.\n",
    "\n",
    "        params (np.array(float)):\n",
    "            The parameters that define the gates in the circuit. In this case,\n",
    "            they're all rotation angles.\n",
    "\n",
    "        diff_idx (int):\n",
    "            The index of the gate in the circuit that is to be differentiated\n",
    "            with respect to. For instance, if diff_idx = 2, then the derivative\n",
    "            of the third gate in the circuit will be calculated.\n",
    "\n",
    "        wires (list(int)):\n",
    "            A list of wires that each gate in the circuit will be applied to.\n",
    "\n",
    "        measured_wire (int):\n",
    "            The expectation value that needs to be calculated is with respect\n",
    "            to the Pauli Z operator. measured_wire defines what wire we're\n",
    "            measuring on.\n",
    "\n",
    "    Returns:\n",
    "        float: The derivative evaluated at the given parameters.\n",
    "    \"\"\"\n",
    "    op_dict = {0: qml.RX, 1: qml.RY, 2: qml.RZ}\n",
    "    dev = qml.device(\"default.qubit\", wires=2)\n",
    "\n",
    "    obs = qml.PauliZ(measured_wire)\n",
    "    operator = op_dict[op_order[diff_idx]](params[diff_idx], wires[diff_idx])\n",
    "    gen, coeff = generator_info(operator)\n",
    "\n",
    "    @qml.qnode(dev)\n",
    "    def circuit_bra1():\n",
    "\n",
    "        # Put your code here #\n",
    "        \n",
    "        for i, (d, p, w) in enumerate(zip(op_order, params, wires)):\n",
    "            if i==diff_idx:\n",
    "                if d == 0:\n",
    "                    qml.PauliX(w)\n",
    "                    qml.RX(p, wires=w)\n",
    "                elif d==1:\n",
    "                    qml.PauliY(w)\n",
    "                    qml.RY(p, wires=w)\n",
    "                elif d==2:\n",
    "                    qml.PauliZ(w)\n",
    "                    qml.RZ(p, wires=w)\n",
    "            else:\n",
    "                if d==0:\n",
    "                    qml.RX(p, wires=w)\n",
    "                elif d==1:\n",
    "                    qml.RY(p, wires=w)\n",
    "                elif d==2:\n",
    "                    qml.RZ(p, wires=w)\n",
    "\n",
    "        return qml.state()\n",
    "\n",
    "    @qml.qnode(dev)\n",
    "    def circuit_ket1():\n",
    "\n",
    "        # Put your code here #\n",
    "        for d, p, w in zip(op_order, params, wires):\n",
    "            if d==0:\n",
    "                qml.RX(p, wires=w)\n",
    "            elif d==1:\n",
    "                qml.RY(p, wires=w)\n",
    "            elif d==2:\n",
    "                qml.RZ(p, wires=w)\n",
    "        \n",
    "        qml.PauliZ(measured_wire)\n",
    "        \n",
    "        return qml.state()\n",
    "\n",
    "    @qml.qnode(dev)\n",
    "    def circuit_bra2():\n",
    "\n",
    "        # Put your code here #\n",
    "#         for d, p, w in zip(op_order, params, wires):\n",
    "#             if d==0:\n",
    "#                 qml.RX(p, wires=w)\n",
    "#             elif d==1:\n",
    "#                 qml.RY(p, wires=w)\n",
    "#             elif d==2:\n",
    "#                 qml.RZ(p, wires=w)\n",
    "        \n",
    "#         qml.PauliZ(measured_wire)\n",
    "        \n",
    "        return qml.state()\n",
    "\n",
    "    @qml.qnode(dev)\n",
    "    def circuit_ket2():\n",
    "\n",
    "        # Put your code here #\n",
    "#         for i, (d, p, w) in enumerate(zip(op_order, params, wires)):\n",
    "#             if i==diff_idx:\n",
    "#                 if d == 0:\n",
    "#                     qml.PauliX(w)\n",
    "#                     qml.RX(p, wires=w)\n",
    "#                 elif d==1:\n",
    "#                     qml.PauliY(w)\n",
    "#                     qml.RY(p, wires=w)\n",
    "#                 elif d==2:\n",
    "#                     qml.PauliZ(w)\n",
    "#                     qml.RZ(p, wires=w)\n",
    "#             else:\n",
    "#                 if d==0:\n",
    "#                     qml.RX(p, wires=w)\n",
    "#                 elif d==1:\n",
    "#                     qml.RY(p, wires=w)\n",
    "#                 elif d==2:\n",
    "#                     qml.RZ(p, wires=w)\n",
    "\n",
    "        return qml.state()\n",
    "\n",
    "    bra1 = circuit_bra1()*1j\n",
    "    ket1 = circuit_ket1()\n",
    "    bra2 = ket1#circuit_bra2()\n",
    "    ket2 = bra1#circuit_ket2()*1j\n",
    "\n",
    "    result = (np.vdot(bra1, ket1) + np.vdot(bra2, ket2))*coeff\n",
    "#     print(np.vdot(bra1, ket1), np.vdot(bra2, ket2), coeff)\n",
    "#     print(result)\n",
    "    return  result.real\n",
    "    # Put your code here #\n"
   ]
  },
  {
   "cell_type": "code",
   "execution_count": 4,
   "id": "d31b89e2",
   "metadata": {},
   "outputs": [
    {
     "name": "stdout",
     "output_type": "stream",
     "text": [
      "Running test case 0 with input '[[1,0,2,1,0,1], [1.23, 4.56, 7.89, 1.23, 4.56, 7.89], 0, [1, 0, 1, 1, 1, 0], 1]'...\n",
      "Correct!\n"
     ]
    }
   ],
   "source": [
    "\n",
    "# These functions are responsible for testing the solution.\n",
    "\n",
    "def run(test_case_input: str) -> str:\n",
    "    op_order, params, diff_idx, wires, measured_wire = json.loads(test_case_input)\n",
    "    params = np.array(params, requires_grad=True)\n",
    "    der = derivative(op_order, params, diff_idx, wires, measured_wire)\n",
    "    return str(der)\n",
    "\n",
    "def check(solution_output: str, expected_output: str) -> None:\n",
    "    solution_output = json.loads(solution_output)\n",
    "    expected_output = json.loads(expected_output)\n",
    "    assert np.allclose(\n",
    "        solution_output, expected_output, rtol=1e-4\n",
    "    ), \"Your derivative isn't quite right!\"\n",
    "\n",
    "\n",
    "test_cases = [['[[1,0,2,1,0,1], [1.23, 4.56, 7.89, 1.23, 4.56, 7.89], 0, [1, 0, 1, 1, 1, 0], 1]', '-0.2840528']]\n",
    "\n",
    "for i, (input_, expected_output) in enumerate(test_cases):\n",
    "    print(f\"Running test case {i} with input '{input_}'...\")\n",
    "\n",
    "    try:\n",
    "        output = run(input_)\n",
    "\n",
    "    except Exception as exc:\n",
    "        print(f\"Runtime Error. {exc}\")\n",
    "\n",
    "    else:\n",
    "        if message := check(output, expected_output):\n",
    "            print(f\"Wrong Answer. Have: '{output}'. Want: '{expected_output}'.\")\n",
    "\n",
    "        else:\n",
    "            print(\"Correct!\")"
   ]
  },
  {
   "cell_type": "code",
   "execution_count": 42,
   "id": "98d1ff30",
   "metadata": {},
   "outputs": [
    {
     "data": {
      "text/plain": [
       "(PauliX(wires=[0]), -0.5)"
      ]
     },
     "execution_count": 42,
     "metadata": {},
     "output_type": "execute_result"
    }
   ],
   "source": [
    "op = qml.generator(qml.RX(1, 0), format='observable')\n",
    "op.ops[0], op.coeffs[0]"
   ]
  },
  {
   "cell_type": "code",
   "execution_count": 15,
   "id": "ca9c86c0",
   "metadata": {},
   "outputs": [
    {
     "data": {
      "text/plain": [
       "True"
      ]
     },
     "execution_count": 15,
     "metadata": {},
     "output_type": "execute_result"
    }
   ],
   "source": [
    "isinstance(op, qml.operation.Operator)"
   ]
  },
  {
   "cell_type": "code",
   "execution_count": 62,
   "id": "f87a31e7",
   "metadata": {},
   "outputs": [],
   "source": [
    "dev = qml.device(\"default.qubit\", wires=2)\n",
    "@qml.qnode(dev)\n",
    "def cirq():\n",
    "    qml.RY(0.1, 0)\n",
    "    qml.RY(0.1, 1)\n",
    "    qml.adjoint(qml.PauliX(0))\n",
    "    \n",
    "    #return qml.expval(qml.PauliZ(0))\n",
    "    return qml.state()"
   ]
  },
  {
   "cell_type": "code",
   "execution_count": 63,
   "id": "4eb298de",
   "metadata": {},
   "outputs": [
    {
     "name": "stderr",
     "output_type": "stream",
     "text": [
      "/tmp/ipykernel_94141/1235263225.py:2: UserWarning: Matplotlib is currently using module://matplotlib_inline.backend_inline, which is a non-GUI backend, so cannot show the figure.\n",
      "  fig.show()\n"
     ]
    },
    {
     "data": {
      "image/png": "[encoded data removed]",
      "text/plain": [
       "<Figure size 500x300 with 1 Axes>"
      ]
     },
     "metadata": {},
     "output_type": "display_data"
    }
   ],
   "source": [
    "fig, ax = qml.draw_mpl(cirq)()\n",
    "fig.show()"
   ]
  },
  {
   "cell_type": "code",
   "execution_count": 67,
   "id": "2cdafe53",
   "metadata": {},
   "outputs": [
    {
     "data": {
      "text/plain": [
       "tensor([0.-0.04991671j, 0.-0.00249792j, 0.-0.99750208j, 0.-0.04991671j], requires_grad=True)"
      ]
     },
     "execution_count": 67,
     "metadata": {},
     "output_type": "execute_result"
    }
   ],
   "source": [
    "-1j*cirq()"
   ]
  },
  {
   "cell_type": "code",
   "execution_count": 71,
   "id": "7d476123",
   "metadata": {},
   "outputs": [
    {
     "data": {
      "text/plain": [
       "Adjoint(PauliZ(wires=[0]))"
      ]
     },
     "execution_count": 71,
     "metadata": {},
     "output_type": "execute_result"
    }
   ],
   "source": [
    "qml.adjoint(qml.PauliZ(0))"
   ]
  },
  {
   "cell_type": "code",
   "execution_count": null,
   "id": "666e1c6f",
   "metadata": {},
   "outputs": [],
   "source": []
  }
 ],
 "metadata": {
  "kernelspec": {
   "display_name": "Python 3 (ipykernel)",
   "language": "python",
   "name": "python3"
  },
  "language_info": {
   "codemirror_mode": {
    "name": "ipython",
    "version": 3
   },
   "file_extension": ".py",
   "mimetype": "text/x-python",
   "name": "python",
   "nbconvert_exporter": "python",
   "pygments_lexer": "ipython3",
   "version": "3.9.12"
  }
 },
 "nbformat": 4,
 "nbformat_minor": 5
}
