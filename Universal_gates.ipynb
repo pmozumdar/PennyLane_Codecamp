{
 "cells": [
  {
   "cell_type": "code",
   "execution_count": 1,
   "id": "676d8b2b",
   "metadata": {},
   "outputs": [],
   "source": [
    "import functools\n",
    "import json\n",
    "import math\n",
    "import pandas as pd\n",
    "import pennylane as qml\n",
    "import pennylane.numpy as np\n",
    "import scipy"
   ]
  },
  {
   "cell_type": "code",
   "execution_count": 2,
   "id": "37954055",
   "metadata": {},
   "outputs": [],
   "source": [
    "def U():\n",
    "    \"\"\"\n",
    "    This quantum function will simply contain H, T and CNOT gates.\n",
    "    It will not return any value.\n",
    "    \"\"\"\n",
    "\n",
    "    # Put your solution here #\n",
    "    qml.Hadamard(wires=0)\n",
    "    qml.Hadamard(wires=1)\n",
    "    \n",
    "    qml.Hadamard(wires=0)\n",
    "    qml.T(wires=0)\n",
    "    qml.T(wires=1)\n",
    "    qml.CNOT(wires=[1, 0])\n",
    "    qml.T(wires=0)\n",
    "    qml.T(wires=0)\n",
    "    qml.T(wires=0)\n",
    "    qml.CNOT(wires=[1, 0])\n",
    "    qml.Hadamard(wires=0)\n",
    "    \n",
    "    qml.Hadamard(wires=0)\n",
    "    qml.Hadamard(wires=1)\n",
    "    \n",
    "    qml.CNOT(wires=[1, 0])"
   ]
  },
  {
   "cell_type": "code",
   "execution_count": 3,
   "id": "ab76b6f8",
   "metadata": {},
   "outputs": [
    {
     "name": "stdout",
     "output_type": "stream",
     "text": [
      "Running test case 0 with input 'No input'...\n",
      "Correct!\n"
     ]
    }
   ],
   "source": [
    "dev = qml.device(\"default.qubit\", wires=2)\n",
    "\n",
    "@qml.qnode(dev)\n",
    "def circuit():\n",
    "    \"\"\"\n",
    "    Main circuit given in the statement, here the operators you have defined in U will be embedded.\n",
    "    \"\"\"\n",
    "\n",
    "    qml.CNOT(wires=[0, 1])\n",
    "\n",
    "    qml.Hadamard(wires=0)\n",
    "    qml.Hadamard(wires=1)\n",
    "\n",
    "    U()\n",
    "\n",
    "    qml.CNOT(wires=[1, 0])\n",
    "\n",
    "    U()\n",
    "\n",
    "    qml.Hadamard(wires=0)\n",
    "    qml.Hadamard(wires=1)\n",
    "\n",
    "    return qml.state()\n",
    "\n",
    "\n",
    "# These functions are responsible for testing the solution.\n",
    "\n",
    "def run(input: str) -> str:\n",
    "    matrix = qml.matrix(circuit)().real\n",
    "    #print(np.round(matrix, 2))\n",
    "\n",
    "    with qml.tape.QuantumTape() as tape:\n",
    "        U()\n",
    "\n",
    "    names = [op.name for op in tape.operations]\n",
    "    return json.dumps({\"matrix\": matrix.tolist(), \"gates\": names})\n",
    "\n",
    "def check(user_output: str, expected_output: str) -> str:\n",
    "\n",
    "    parsed_output = json.loads(user_output)\n",
    "    matrix_user = np.array(parsed_output[\"matrix\"])\n",
    "    #print(matrix_user)\n",
    "    gates = parsed_output[\"gates\"]\n",
    "\n",
    "    assert np.allclose(matrix_user, qml.matrix(qml.SWAP)(wires=[0, 1]))\n",
    "    assert (\n",
    "        len(set(gates)) == 3\n",
    "        and \"Hadamard\" in gates\n",
    "        and \"CNOT\" in gates\n",
    "        and \"T\" in gates\n",
    "    )\n",
    "\n",
    "\n",
    "test_cases = [['No input', 'No output']]\n",
    "\n",
    "for i, (input_, expected_output) in enumerate(test_cases):\n",
    "    print(f\"Running test case {i} with input '{input_}'...\")\n",
    "\n",
    "    try:\n",
    "        output = run(input_)\n",
    "\n",
    "    except Exception as exc:\n",
    "        print(f\"Runtime Error. {exc}\")\n",
    "\n",
    "    else:\n",
    "        if message := check(output, expected_output):\n",
    "            print(f\"Wrong Answer. Have: '{output}'. Want: '{expected_output}'.\")\n",
    "\n",
    "        else:\n",
    "            print(\"Correct!\")"
   ]
  },
  {
   "cell_type": "code",
   "execution_count": 5,
   "id": "eaa9b481",
   "metadata": {},
   "outputs": [
    {
     "data": {
      "text/plain": [
       "array([[1, 0, 0, 0],\n",
       "       [0, 0, 1, 0],\n",
       "       [0, 1, 0, 0],\n",
       "       [0, 0, 0, 1]])"
      ]
     },
     "execution_count": 5,
     "metadata": {},
     "output_type": "execute_result"
    }
   ],
   "source": [
    "a=qml.matrix(qml.SWAP)(wires=[0, 1])\n",
    "a"
   ]
  },
  {
   "cell_type": "code",
   "execution_count": 35,
   "id": "45051e09",
   "metadata": {},
   "outputs": [
    {
     "data": {
      "text/plain": [
       "array([[ 1.00000000e+00,  0.00000000e+00,  0.00000000e+00,\n",
       "        -1.34692639e-17],\n",
       "       [ 0.00000000e+00, -1.34692639e-17,  1.00000000e+00,\n",
       "         0.00000000e+00],\n",
       "       [-1.34692639e-17,  0.00000000e+00,  0.00000000e+00,\n",
       "         1.00000000e+00],\n",
       "       [ 0.00000000e+00,  1.00000000e+00, -1.34692639e-17,\n",
       "         0.00000000e+00]])"
      ]
     },
     "execution_count": 35,
     "metadata": {},
     "output_type": "execute_result"
    }
   ],
   "source": [
    "b = qml.matrix(circuit)().real\n",
    "b"
   ]
  },
  {
   "cell_type": "code",
   "execution_count": 3,
   "id": "2f193a53",
   "metadata": {},
   "outputs": [
    {
     "ename": "AttributeError",
     "evalue": "Module pennylane has no attribute SqrtSwap",
     "output_type": "error",
     "traceback": [
      "\u001b[0;31m---------------------------------------------------------------------------\u001b[0m",
      "\u001b[0;31mAttributeError\u001b[0m                            Traceback (most recent call last)",
      "Input \u001b[0;32mIn [3]\u001b[0m, in \u001b[0;36m<cell line: 1>\u001b[0;34m()\u001b[0m\n\u001b[0;32m----> 1\u001b[0m \u001b[43mqml\u001b[49m\u001b[38;5;241;43m.\u001b[39;49m\u001b[43mSqrtSwap\u001b[49m(wires\u001b[38;5;241m=\u001b[39m[\u001b[38;5;241m0\u001b[39m, \u001b[38;5;241m1\u001b[39m])\n",
      "File \u001b[0;32m~/anaconda3/envs/lambeq/lib/python3.9/site-packages/pennylane/__init__.py:356\u001b[0m, in \u001b[0;36m__getattr__\u001b[0;34m(name)\u001b[0m\n\u001b[1;32m    353\u001b[0m     \u001b[38;5;28;01mimport\u001b[39;00m \u001b[38;5;21;01mpennylane\u001b[39;00m\u001b[38;5;21;01m.\u001b[39;00m\u001b[38;5;21;01mgrouping\u001b[39;00m \u001b[38;5;28;01mas\u001b[39;00m \u001b[38;5;21;01mgrouping\u001b[39;00m  \u001b[38;5;66;03m# pylint:disable=import-outside-toplevel,consider-using-from-import\u001b[39;00m\n\u001b[1;32m    355\u001b[0m     \u001b[38;5;28;01mreturn\u001b[39;00m grouping\n\u001b[0;32m--> 356\u001b[0m \u001b[38;5;28;01mraise\u001b[39;00m \u001b[38;5;167;01mAttributeError\u001b[39;00m(\u001b[38;5;124mf\u001b[39m\u001b[38;5;124m\"\u001b[39m\u001b[38;5;124mModule \u001b[39m\u001b[38;5;132;01m{\u001b[39;00m\u001b[38;5;18m__name__\u001b[39m\u001b[38;5;132;01m}\u001b[39;00m\u001b[38;5;124m has no attribute \u001b[39m\u001b[38;5;132;01m{\u001b[39;00mname\u001b[38;5;132;01m}\u001b[39;00m\u001b[38;5;124m\"\u001b[39m)\n",
      "\u001b[0;31mAttributeError\u001b[0m: Module pennylane has no attribute SqrtSwap"
     ]
    }
   ],
   "source": [
    "qml.prod(Sq)"
   ]
  },
  {
   "cell_type": "code",
   "execution_count": 53,
   "id": "9cd277e8",
   "metadata": {},
   "outputs": [
    {
     "data": {
      "text/plain": [
       "([CNOT(wires=[1, 0]), CNOT(wires=[0, 1]), CNOT(wires=[1, 0])],)"
      ]
     },
     "execution_count": 53,
     "metadata": {},
     "output_type": "execute_result"
    }
   ],
   "source": [
    "qml.SWAP(wires=[0, 1]).decomposition(), "
   ]
  },
  {
   "cell_type": "code",
   "execution_count": 56,
   "id": "d87f576b",
   "metadata": {},
   "outputs": [
    {
     "ename": "ValueError",
     "evalue": "Require at least two operators to combine; got 1",
     "output_type": "error",
     "traceback": [
      "\u001b[0;31m---------------------------------------------------------------------------\u001b[0m",
      "\u001b[0;31mValueError\u001b[0m                                Traceback (most recent call last)",
      "Input \u001b[0;32mIn [56]\u001b[0m, in \u001b[0;36m<cell line: 1>\u001b[0;34m()\u001b[0m\n\u001b[0;32m----> 1\u001b[0m qml\u001b[38;5;241m.\u001b[39mmatrix(\u001b[43mqml\u001b[49m\u001b[38;5;241;43m.\u001b[39;49m\u001b[43mprod\u001b[49m\u001b[43m(\u001b[49m\u001b[43mqml\u001b[49m\u001b[38;5;241;43m.\u001b[39;49m\u001b[43mCNOT\u001b[49m\u001b[43m(\u001b[49m\u001b[43mwires\u001b[49m\u001b[38;5;241;43m=\u001b[39;49m\u001b[43m[\u001b[49m\u001b[38;5;241;43m0\u001b[39;49m\u001b[43m,\u001b[49m\u001b[38;5;241;43m1\u001b[39;49m\u001b[43m]\u001b[49m\u001b[43m)\u001b[49m\u001b[43m)\u001b[49m)\n",
      "File \u001b[0;32m~/anaconda3/envs/lambeq/lib/python3.9/site-packages/pennylane/ops/op_math/prod.py:71\u001b[0m, in \u001b[0;36mprod\u001b[0;34m(do_queue, id, *ops)\u001b[0m\n\u001b[1;32m     42\u001b[0m \u001b[38;5;28;01mdef\u001b[39;00m \u001b[38;5;21mprod\u001b[39m(\u001b[38;5;241m*\u001b[39mops, do_queue\u001b[38;5;241m=\u001b[39m\u001b[38;5;28;01mTrue\u001b[39;00m, \u001b[38;5;28mid\u001b[39m\u001b[38;5;241m=\u001b[39m\u001b[38;5;28;01mNone\u001b[39;00m):\n\u001b[1;32m     43\u001b[0m     \u001b[38;5;124;03m\"\"\"Construct an operator which represents the generalized product of the\u001b[39;00m\n\u001b[1;32m     44\u001b[0m \u001b[38;5;124;03m    operators provided.\u001b[39;00m\n\u001b[1;32m     45\u001b[0m \n\u001b[0;32m   (...)\u001b[0m\n\u001b[1;32m     69\u001b[0m \u001b[38;5;124;03m           [ 1,  0]])\u001b[39;00m\n\u001b[1;32m     70\u001b[0m \u001b[38;5;124;03m    \"\"\"\u001b[39;00m\n\u001b[0;32m---> 71\u001b[0m     \u001b[38;5;28;01mreturn\u001b[39;00m \u001b[43mProd\u001b[49m\u001b[43m(\u001b[49m\u001b[38;5;241;43m*\u001b[39;49m\u001b[43mops\u001b[49m\u001b[43m,\u001b[49m\u001b[43m \u001b[49m\u001b[43mdo_queue\u001b[49m\u001b[38;5;241;43m=\u001b[39;49m\u001b[43mdo_queue\u001b[49m\u001b[43m,\u001b[49m\u001b[43m \u001b[49m\u001b[38;5;28;43mid\u001b[39;49m\u001b[38;5;241;43m=\u001b[39;49m\u001b[38;5;28;43mid\u001b[39;49m\u001b[43m)\u001b[49m\n",
      "File \u001b[0;32m~/anaconda3/envs/lambeq/lib/python3.9/site-packages/pennylane/ops/op_math/composite.py:56\u001b[0m, in \u001b[0;36mCompositeOp.__init__\u001b[0;34m(self, do_queue, id, *operands)\u001b[0m\n\u001b[1;32m     53\u001b[0m \u001b[38;5;28mself\u001b[39m\u001b[38;5;241m.\u001b[39m_name \u001b[38;5;241m=\u001b[39m \u001b[38;5;28mself\u001b[39m\u001b[38;5;241m.\u001b[39m\u001b[38;5;18m__class__\u001b[39m\u001b[38;5;241m.\u001b[39m\u001b[38;5;18m__name__\u001b[39m\n\u001b[1;32m     55\u001b[0m \u001b[38;5;28;01mif\u001b[39;00m \u001b[38;5;28mlen\u001b[39m(operands) \u001b[38;5;241m<\u001b[39m \u001b[38;5;241m2\u001b[39m:\n\u001b[0;32m---> 56\u001b[0m     \u001b[38;5;28;01mraise\u001b[39;00m \u001b[38;5;167;01mValueError\u001b[39;00m(\u001b[38;5;124mf\u001b[39m\u001b[38;5;124m\"\u001b[39m\u001b[38;5;124mRequire at least two operators to combine; got \u001b[39m\u001b[38;5;132;01m{\u001b[39;00m\u001b[38;5;28mlen\u001b[39m(operands)\u001b[38;5;132;01m}\u001b[39;00m\u001b[38;5;124m\"\u001b[39m)\n\u001b[1;32m     58\u001b[0m \u001b[38;5;28mself\u001b[39m\u001b[38;5;241m.\u001b[39moperands \u001b[38;5;241m=\u001b[39m operands\n\u001b[1;32m     59\u001b[0m \u001b[38;5;28mself\u001b[39m\u001b[38;5;241m.\u001b[39m_wires \u001b[38;5;241m=\u001b[39m qml\u001b[38;5;241m.\u001b[39mwires\u001b[38;5;241m.\u001b[39mWires\u001b[38;5;241m.\u001b[39mall_wires([op\u001b[38;5;241m.\u001b[39mwires \u001b[38;5;28;01mfor\u001b[39;00m op \u001b[38;5;129;01min\u001b[39;00m operands])\n",
      "\u001b[0;31mValueError\u001b[0m: Require at least two operators to combine; got 1"
     ]
    }
   ],
   "source": [
    "qml.matrix(qml.prod(qml.CNOT(wires=[0,1]), qml.CNOT(wires=[0, 1]), ))#, qml.T(wires=[0]), qml.T(wires=1))).real"
   ]
  },
  {
   "cell_type": "code",
   "execution_count": 155,
   "id": "0a632408",
   "metadata": {},
   "outputs": [
    {
     "data": {
      "text/plain": [
       "array([[1.+0.00000000e+00j, 0.+0.00000000e+00j],\n",
       "       [0.+0.00000000e+00j, 1.-6.66133815e-16j]])"
      ]
     },
     "execution_count": 155,
     "metadata": {},
     "output_type": "execute_result"
    }
   ],
   "source": [
    "qml.matrix(qml.prod(qml.T(wires=[1]), qml.T(wires=[1]), qml.T(wires=[1]), qml.T(wires=[1]), qml.T(wires=[1]), qml.T(wires=[1]), qml.T(wires=[1]), qml.T(wires=[1])))"
   ]
  },
  {
   "cell_type": "code",
   "execution_count": 48,
   "id": "c6aceffa",
   "metadata": {},
   "outputs": [
    {
     "data": {
      "text/plain": [
       "array([[ 0.70710678+0.j ,  0.5       +0.5j],\n",
       "       [ 0.70710678+0.j , -0.5       -0.5j]])"
      ]
     },
     "execution_count": 48,
     "metadata": {},
     "output_type": "execute_result"
    }
   ],
   "source": [
    "qml.matrix(qml.prod(qml.Hadamard(0), qml.T(0)))"
   ]
  },
  {
   "cell_type": "code",
   "execution_count": 57,
   "id": "f2344e54",
   "metadata": {},
   "outputs": [
    {
     "data": {
      "text/plain": [
       "array([[1, 0, 0, 0],\n",
       "       [0, 1, 0, 0],\n",
       "       [0, 0, 0, 1],\n",
       "       [0, 0, 1, 0]])"
      ]
     },
     "execution_count": 57,
     "metadata": {},
     "output_type": "execute_result"
    }
   ],
   "source": [
    "qml.matrix(qml.CNOT(wires=[0, 1]))"
   ]
  },
  {
   "cell_type": "code",
   "execution_count": 96,
   "id": "74438ccd",
   "metadata": {},
   "outputs": [
    {
     "data": {
      "text/plain": [
       "[PhaseShift(1.5707963267948966, wires=[0]),\n",
       " CNOT(wires=[0, 1]),\n",
       " PhaseShift(-1.5707963267948966, wires=[1]),\n",
       " CNOT(wires=[0, 1]),\n",
       " PhaseShift(1.5707963267948966, wires=[1])]"
      ]
     },
     "execution_count": 96,
     "metadata": {},
     "output_type": "execute_result"
    }
   ],
   "source": [
    "qml.CPhase(math.pi, wires=[0, 1]).decomposition()"
   ]
  },
  {
   "cell_type": "code",
   "execution_count": 125,
   "id": "7529cb84",
   "metadata": {},
   "outputs": [],
   "source": [
    "op = qml.prod(qml.Hadamard(0), qml.CPhase(math.pi, wires=[0, 1]), qml.Hadamard(0))\n",
    "op1 = qml.prod(qml.Hadamard(1), qml.CPhase(math.pi, wires=[1, 0]), qml.Hadamard(1))"
   ]
  },
  {
   "cell_type": "code",
   "execution_count": 129,
   "id": "61527a32",
   "metadata": {},
   "outputs": [
    {
     "data": {
      "text/plain": [
       "tensor([[ 1.,  0., -0.,  0.],\n",
       "        [ 0., -0.,  0.,  1.],\n",
       "        [-0.,  0.,  1.,  0.],\n",
       "        [ 0.,  1.,  0., -0.]], requires_grad=True)"
      ]
     },
     "execution_count": 129,
     "metadata": {},
     "output_type": "execute_result"
    }
   ],
   "source": [
    "np.round(qml.matrix(op).real, 3)"
   ]
  },
  {
   "cell_type": "code",
   "execution_count": 126,
   "id": "70c0c848",
   "metadata": {},
   "outputs": [
    {
     "data": {
      "text/plain": [
       "tensor([[ 1., -0., -0., -0.],\n",
       "        [-0., -0.,  1., -0.],\n",
       "        [-0.,  1., -0., -0.],\n",
       "        [-0., -0., -0.,  1.]], requires_grad=True)"
      ]
     },
     "execution_count": 126,
     "metadata": {},
     "output_type": "execute_result"
    }
   ],
   "source": [
    "np.round(qml.matrix(qml.prod(op, op1, op)).real, 2)"
   ]
  },
  {
   "cell_type": "code",
   "execution_count": 144,
   "id": "7ab825cc",
   "metadata": {},
   "outputs": [
    {
     "data": {
      "text/plain": [
       "tensor([[1., 0.],\n",
       "        [0., 0.]], requires_grad=True)"
      ]
     },
     "execution_count": 144,
     "metadata": {},
     "output_type": "execute_result"
    }
   ],
   "source": [
    "np.round(qml.matrix(qml.PhaseShift(-math.pi/2, wires=1)).real, 3)"
   ]
  },
  {
   "cell_type": "code",
   "execution_count": 157,
   "id": "0fdfe2d6",
   "metadata": {},
   "outputs": [
    {
     "data": {
      "text/plain": [
       "[RZ(-1.5707963267948966, wires=[1])]"
      ]
     },
     "execution_count": 157,
     "metadata": {},
     "output_type": "execute_result"
    }
   ],
   "source": [
    "qml.PhaseShift(-math.pi/2, 1).decomposition()"
   ]
  },
  {
   "cell_type": "code",
   "execution_count": 104,
   "id": "793f9f9e",
   "metadata": {},
   "outputs": [],
   "source": [
    "top0 = qml.prod(qml.T(wires=[0]), qml.T(wires=[0]), qml.T(wires=[0]), qml.T(wires=[0]))\n",
    "top1 = qml.prod(qml.T(wires=[1]), qml.T(wires=[1]), qml.T(wires=[1]), qml.T(wires=[1]))\n",
    "op11 = qml.prod(qml.Hadamard(0), top0, qml.CNOT(wires=[0, 1]), top1, qml.CNOT(wires=[0, 1]), top1, qml.Hadamard(0))\n",
    "op22 = qml.prod(qml.Hadamard(1), top1, qml.CNOT(wires=[1, 0]), top0, qml.CNOT(wires=[1, 0]), top0, qml.Hadamard(1))"
   ]
  },
  {
   "cell_type": "code",
   "execution_count": 100,
   "id": "05510ed3",
   "metadata": {},
   "outputs": [
    {
     "data": {
      "text/plain": [
       "tensor([[ 1., -0., -0.,  0.],\n",
       "        [-0.,  1., -0., -0.],\n",
       "        [-0., -0.,  1., -0.],\n",
       "        [ 0., -0., -0.,  1.]], requires_grad=True)"
      ]
     },
     "execution_count": 100,
     "metadata": {},
     "output_type": "execute_result"
    }
   ],
   "source": [
    "np.round(qml.matrix(qml.prod(op11, op22, op11)).real, 3)"
   ]
  },
  {
   "cell_type": "code",
   "execution_count": 107,
   "id": "00f5c70f",
   "metadata": {},
   "outputs": [
    {
     "data": {
      "text/plain": [
       "tensor([[ 1.,  0., -0.,  0.],\n",
       "        [ 0.,  1.,  0., -0.],\n",
       "        [-0.,  0.,  1.,  0.],\n",
       "        [ 0., -0.,  0.,  1.]], requires_grad=True)"
      ]
     },
     "execution_count": 107,
     "metadata": {},
     "output_type": "execute_result"
    }
   ],
   "source": [
    "np.round(qml.matrix(op11).real, 3)"
   ]
  },
  {
   "cell_type": "code",
   "execution_count": 139,
   "id": "10346ffb",
   "metadata": {},
   "outputs": [
    {
     "data": {
      "text/plain": [
       "tensor([[ 1.,  0.,  0.,  0.],\n",
       "        [ 0.,  1.,  0.,  0.],\n",
       "        [ 0.,  0.,  1.,  0.],\n",
       "        [ 0.,  0.,  0., -1.]], requires_grad=True)"
      ]
     },
     "execution_count": 139,
     "metadata": {},
     "output_type": "execute_result"
    }
   ],
   "source": [
    "np.round(qml.matrix(qml.prod(qml.PhaseShift(math.pi/2, 0), qml.CNOT(wires=[0, 1]), qml.PhaseShift(-math.pi/2, 1), qml.CNOT(wires=[0, 1]), qml.PhaseShift(math.pi/2, 1))).real, 3)"
   ]
  },
  {
   "cell_type": "code",
   "execution_count": 137,
   "id": "c2221ae3",
   "metadata": {},
   "outputs": [
    {
     "data": {
      "text/plain": [
       "array([[1., 0., 0., 0.],\n",
       "       [0., 1., 0., 0.],\n",
       "       [0., 0., 1., 0.],\n",
       "       [0., 0., 0., 1.]])"
      ]
     },
     "execution_count": 137,
     "metadata": {},
     "output_type": "execute_result"
    }
   ],
   "source": [
    "qml.matrix(qml.prod(top0, qml.CNOT(wires=[0, 1]), top1,  qml.CNOT(wires=[0, 1]), top1)).real"
   ]
  },
  {
   "cell_type": "code",
   "execution_count": 130,
   "id": "ca8f5885",
   "metadata": {},
   "outputs": [
    {
     "data": {
      "text/plain": [
       "array([[ 1.,  0.,  0.,  0.],\n",
       "       [ 0.,  1.,  0.,  0.],\n",
       "       [ 0.,  0.,  1.,  0.],\n",
       "       [ 0.,  0.,  0., -1.]])"
      ]
     },
     "execution_count": 130,
     "metadata": {},
     "output_type": "execute_result"
    }
   ],
   "source": [
    "qml.matrix(qml.CPhase(math.pi, wires=[0, 1])).real"
   ]
  },
  {
   "cell_type": "code",
   "execution_count": null,
   "id": "e70511a7",
   "metadata": {},
   "outputs": [],
   "source": []
  }
 ],
 "metadata": {
  "kernelspec": {
   "display_name": "Python 3 (ipykernel)",
   "language": "python",
   "name": "python3"
  },
  "language_info": {
   "codemirror_mode": {
    "name": "ipython",
    "version": 3
   },
   "file_extension": ".py",
   "mimetype": "text/x-python",
   "name": "python",
   "nbconvert_exporter": "python",
   "pygments_lexer": "ipython3",
   "version": "3.9.12"
  }
 },
 "nbformat": 4,
 "nbformat_minor": 5
}
