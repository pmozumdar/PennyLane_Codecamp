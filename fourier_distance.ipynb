{
 "cells": [
  {
   "cell_type": "code",
   "execution_count": 1,
   "id": "f06afaef",
   "metadata": {},
   "outputs": [],
   "source": [
    "import functools\n",
    "import json\n",
    "import math\n",
    "import pandas as pd\n",
    "import pennylane as qml\n",
    "import pennylane.numpy as np\n",
    "import scipy"
   ]
  },
  {
   "cell_type": "code",
   "execution_count": 2,
   "id": "e671c17d",
   "metadata": {},
   "outputs": [],
   "source": [
    "def fourier_squared_distance(list_of_coeffs, param_list):\n",
    "    \"\"\"\n",
    "    Returns the squared l2-distance in Fourier space between a function\n",
    "    characterized by its Fourier coefficients and the output of the\n",
    "    quantum model\n",
    "\n",
    "    Args:\n",
    "        list_of coeffs (list(float)): A list of seven coefficients\n",
    "                                      corresponding to the Fourier\n",
    "                                      coefficients of the function we\n",
    "                                      want to approximate\n",
    "        param_list (list(float)): A list of six parameters characterizing\n",
    "                                  the angles in the trainable circuit.\n",
    "\n",
    "    Returns: (float): Squared l2-distance between the given function\n",
    "                      and the output of the quantum model\n",
    "    \"\"\"\n",
    "\n",
    "    dev = qml.device(\"default.qubit\", wires=3)\n",
    "\n",
    "    # Feel free to define any helper functions, such as subcircuits, here.\n",
    "\n",
    "    @qml.qnode(dev)\n",
    "    def circuit(param_list, x):\n",
    "        \"\"\"This circuit returns the PauliZ expectation of\n",
    "        the quantum model in the statement\"\"\"\n",
    "        # Put your code here #\n",
    "        qml.BasicEntanglerLayers([[param_list[0], param_list[1], param_list[2]]], wires=[0, 1, 2])\n",
    "        for i in range(3):\n",
    "            qml.RX(x, i)\n",
    "        qml.BasicEntanglerLayers([[param_list[3], param_list[4], param_list[5]]], wires=[0, 1, 2])\n",
    "        \n",
    "        return qml.expval(qml.PauliZ(0))\n",
    "\n",
    "    # Write a function that calculates the squared l2-distance here\n",
    "    dev_coeff = qml.fourier.coefficients(functools.partial(circuit, param_list), 1, 3)\n",
    "    sm = 0\n",
    "    for t, d in zip(list_of_coeffs, dev_coeff):\n",
    "        sm += np.absolute(t - d)**2\n",
    "    \n",
    "    # Return your final answer here\n",
    "    return sm"
   ]
  },
  {
   "cell_type": "code",
   "execution_count": 3,
   "id": "e284718f",
   "metadata": {},
   "outputs": [],
   "source": [
    "test_cases = [['[[-1.12422548e-01,  0.0, 9.47909940e-02, 0.0, 0.0, 9.47909940e-02, 0.0],[2,2,2,3,4,5]]', '0.0036766085933034303'], ['[[-2.51161988e-01, 0.0, 1.22546112e-01, 0.0, 0.0,  1.22546112e-01, 0.0],[1.1,0.3,0.4,0.6,0.8,0.9]]', '0.6538589174369286']]\n"
   ]
  },
  {
   "cell_type": "code",
   "execution_count": 4,
   "id": "de195031",
   "metadata": {},
   "outputs": [
    {
     "name": "stdout",
     "output_type": "stream",
     "text": [
      "Running test case 0 with input '[[-1.12422548e-01,  0.0, 9.47909940e-02, 0.0, 0.0, 9.47909940e-02, 0.0],[2,2,2,3,4,5]]'...\n",
      "Correct!\n",
      "Running test case 1 with input '[[-2.51161988e-01, 0.0, 1.22546112e-01, 0.0, 0.0,  1.22546112e-01, 0.0],[1.1,0.3,0.4,0.6,0.8,0.9]]'...\n",
      "Correct!\n"
     ]
    }
   ],
   "source": [
    "# These functions are responsible for testing the solution.\n",
    "\n",
    "def run(test_case_input: str) -> str:\n",
    "\n",
    "    ins = json.loads(test_case_input)\n",
    "    output = fourier_squared_distance(*ins)\n",
    "\n",
    "    return str(output)\n",
    "\n",
    "def check(solution_output: str, expected_output: str) -> None:\n",
    "    \"\"\"\n",
    "    Compare solution with expected.\n",
    "\n",
    "    Args:\n",
    "            solution_output: The output from an evaluated solution. Will be\n",
    "            the same type as returned.\n",
    "            expected_output: The correct result for the test case.\n",
    "\n",
    "    Raises:\n",
    "            ``AssertionError`` if the solution output is incorrect in any way.\n",
    "    \"\"\"\n",
    "\n",
    "    solution_output = json.loads(solution_output)\n",
    "    expected_output = json.loads(expected_output)\n",
    "    assert np.allclose(\n",
    "        solution_output, expected_output, rtol=1e-2\n",
    "    ), \"Your calculated squared distance isn't quite right.\"\n",
    "\n",
    "\n",
    "for i, (input_, expected_output) in enumerate(test_cases):\n",
    "    print(f\"Running test case {i} with input '{input_}'...\")\n",
    "\n",
    "    try:\n",
    "        output = run(input_)\n",
    "\n",
    "    except Exception as exc:\n",
    "        print(f\"Runtime Error. {exc}\")\n",
    "\n",
    "    else:\n",
    "        if message := check(output, expected_output):\n",
    "            print(f\"Wrong Answer. Have: '{output}'. Want: '{expected_output}'.\")\n",
    "\n",
    "        else:\n",
    "            print(\"Correct!\")"
   ]
  },
  {
   "cell_type": "code",
   "execution_count": null,
   "id": "39e19042",
   "metadata": {},
   "outputs": [],
   "source": []
  }
 ],
 "metadata": {
  "kernelspec": {
   "display_name": "Python 3 (ipykernel)",
   "language": "python",
   "name": "python3"
  },
  "language_info": {
   "codemirror_mode": {
    "name": "ipython",
    "version": 3
   },
   "file_extension": ".py",
   "mimetype": "text/x-python",
   "name": "python",
   "nbconvert_exporter": "python",
   "pygments_lexer": "ipython3",
   "version": "3.9.12"
  }
 },
 "nbformat": 4,
 "nbformat_minor": 5
}
