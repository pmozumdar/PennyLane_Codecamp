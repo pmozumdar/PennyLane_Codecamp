{
 "cells": [
  {
   "cell_type": "code",
   "execution_count": 1,
   "id": "52989299",
   "metadata": {},
   "outputs": [],
   "source": [
    "import functools\n",
    "import json\n",
    "import math\n",
    "import pandas as pd\n",
    "import pennylane as qml\n",
    "import pennylane.numpy as np\n",
    "import scipy"
   ]
  },
  {
   "cell_type": "code",
   "execution_count": 2,
   "id": "692c51fe",
   "metadata": {},
   "outputs": [],
   "source": [
    "dev_ideal = qml.device(\"default.mixed\", wires=2)  # no noise\n",
    "dev_noisy = qml.transforms.insert(qml.DepolarizingChannel, 0.05, position=\"all\")(\n",
    "    dev_ideal\n",
    ")\n",
    "\n",
    "def U(angle):\n",
    "    \"\"\"A quantum function containing one parameterized gate.\n",
    "\n",
    "    Args:\n",
    "        angle (float): The phase angle for an IsingXY operator\n",
    "    \"\"\"\n",
    "    qml.Hadamard(0)\n",
    "    qml.Hadamard(1)\n",
    "    qml.CNOT(wires=[0, 1])\n",
    "    qml.PauliZ(1)\n",
    "    qml.IsingXY(angle, [0, 1])\n",
    "    qml.S(1)\n",
    "\n",
    "@qml.qnode(dev_noisy)\n",
    "def circuit(angle):\n",
    "    \"\"\"A quantum circuit made from the quantum function U.\n",
    "\n",
    "    Args:\n",
    "        angle (float): The phase angle for an IsingXY operator\n",
    "\n",
    "    Returns:\n",
    "        (numpy.array): A quantum state.\n",
    "    \"\"\"\n",
    "    U(angle)\n",
    "    return qml.state()\n",
    "\n",
    "@qml.tape.stop_recording()\n",
    "def circuit_ops(angle):\n",
    "    \"\"\"A function that outputs the operations within the quantum function U.\n",
    "\n",
    "    Args:\n",
    "        angle (float): The phase angle for an IsingXY operator\n",
    "\n",
    "    Returns:\n",
    "        (list(qml.operation.Operation)): A list of operations that make up the unitary U.\n",
    "    \"\"\"\n",
    "    with qml.tape.QuantumTape() as tape:\n",
    "        U(angle)\n",
    "    return tape.operations"
   ]
  },
  {
   "cell_type": "code",
   "execution_count": 5,
   "id": "eac708f7",
   "metadata": {},
   "outputs": [],
   "source": [
    "@qml.qnode(dev_noisy)\n",
    "def global_fold_circuit(angle, n, s):\n",
    "    \"\"\"Performs the global circuit folding procedure.\n",
    "\n",
    "    Args:\n",
    "        angle (float): The phase angle for an IsingXY operator\n",
    "        n: The number of times U^\\dagger U is applied\n",
    "        s: The integer defining L_s ... L_d.\n",
    "\n",
    "    Returns:\n",
    "        (numpy.array): A quantum state.\n",
    "    \"\"\"\n",
    "    assert s <= len(\n",
    "        circuit_ops(angle)\n",
    "    ), \"The value of s is upper-bounded by the number of gates in the circuit.\"\n",
    "\n",
    "    U(angle)  # Original circuit application\n",
    "\n",
    "    # Put your code here #\n",
    "\n",
    "    # (U^\\dagger U)^n\n",
    "    for i in range(n):\n",
    "#         qml.S(1).adjoint()\n",
    "#         qml.IsingXY(angle, [0, 1]).adjoint()\n",
    "#         qml.PauliZ(1).\n",
    "#         qml.Hadamard(0)\n",
    "#         qml.Hadamard(1)\n",
    "#         qml.CNOT(wires=[0, 1])\n",
    "#         qml.PauliZ(1)\n",
    "        qml.adjoint(U)(angle)\n",
    "        U(angle)\n",
    "\n",
    "    # L_d^\\dagger ... L_s^\\dagger\n",
    "    op = len(circuit_ops(angle))\n",
    "    for i in range(op-1, s-2, -1):\n",
    "        if i==5:\n",
    "            qml.adjoint(qml.S(1))\n",
    "        elif i==4:\n",
    "            qml.adjoint(qml.IsingXY(angle, [0, 1]))\n",
    "        elif i==3:\n",
    "            qml.adjoint(qml.PauliZ(1))\n",
    "        elif i==2:\n",
    "            qml.adjoint(qml.CNOT(wires=[0, 1]))\n",
    "        elif i==1:\n",
    "            qml.adjoint(qml.Hadamard(1))\n",
    "        elif i ==0:\n",
    "            qml.adjoint(qml.Hadamard(0))\n",
    "            \n",
    "    # L_s ... L_d\n",
    "    for i in range(s-1, op):\n",
    "        if i==0:\n",
    "            qml.Hadamard(0)\n",
    "        elif i==1:\n",
    "            qml.Hadamard(1)\n",
    "        elif i==2:\n",
    "            qml.CNOT(wires=[0, 1])\n",
    "        elif i==3:\n",
    "            qml.PauliZ(1)\n",
    "        elif i==4:\n",
    "            qml.IsingXY(angle, [0, 1])\n",
    "        elif i==5:\n",
    "            qml.S(1)\n",
    "    \n",
    "    return qml.state()\n",
    "\n",
    "#fig, ax = qml.draw_mpl(global_fold_circuit)(0.5, 1, 4)\n",
    "#fig.show()"
   ]
  },
  {
   "cell_type": "code",
   "execution_count": 6,
   "id": "36385485",
   "metadata": {},
   "outputs": [
    {
     "name": "stdout",
     "output_type": "stream",
     "text": [
      "Running test case 0 with input '[0.4, 2, 3]'...\n",
      "Correct!\n"
     ]
    },
    {
     "name": "stderr",
     "output_type": "stream",
     "text": [
      "/home/pritom/anaconda3/envs/lambeq/lib/python3.9/site-packages/pennylane/tape/stop_recording.py:85: UserWarning: qml.tape.stop_recording has moved to qml.QueuingManager.stop_recording.\n",
      "  warn(\n"
     ]
    }
   ],
   "source": [
    "def fidelity(angle, n, s):\n",
    "    fid = qml.math.fidelity(global_fold_circuit(angle, n, s), circuit(angle))\n",
    "    return np.round_(fid, decimals=5)\n",
    "\n",
    "\n",
    "# These functions are responsible for testing the solution.\n",
    "\n",
    "def run(test_case_input: str) -> str:\n",
    "    angle, n, s = json.loads(test_case_input)\n",
    "    fid = fidelity(angle, n, s)\n",
    "    return str(fid)\n",
    "\n",
    "def check(solution_output: str, expected_output: str) -> None:\n",
    "    solution_output = json.loads(solution_output)\n",
    "    expected_output = json.loads(expected_output)\n",
    "    assert np.allclose(\n",
    "        solution_output, expected_output, rtol=1e-4\n",
    "    ), \"Your folded circuit isn't quite right!\"\n",
    "\n",
    "\n",
    "test_cases = [['[0.4, 2, 3]', '0.79209']]\n",
    "\n",
    "for i, (input_, expected_output) in enumerate(test_cases):\n",
    "    print(f\"Running test case {i} with input '{input_}'...\")\n",
    "\n",
    "    try:\n",
    "        output = run(input_)\n",
    "\n",
    "    except Exception as exc:\n",
    "        print(f\"Runtime Error. {exc}\")\n",
    "\n",
    "    else:\n",
    "        if message := check(output, expected_output):\n",
    "            print(f\"Wrong Answer. Have: '{output}'. Want: '{expected_output}'.\")\n",
    "\n",
    "        else:\n",
    "            print(\"Correct!\")"
   ]
  },
  {
   "cell_type": "code",
   "execution_count": 5,
   "id": "c6397ce1",
   "metadata": {},
   "outputs": [],
   "source": [
    "dev_ideal = qml.device(\"default.mixed\", wires=2)  # no noise\n",
    "@qml.qnode(dev_ideal)\n",
    "def U(angle):\n",
    "    \"\"\"A quantum function containing one parameterized gate.\n",
    "\n",
    "    Args:\n",
    "        angle (float): The phase angle for an IsingXY operator\n",
    "    \"\"\"\n",
    "    #qml.Hadamard(0)\n",
    "    #qml.Hadamard(1)\n",
    "    #qml.CNOT(wires=[0, 1])\n",
    "    #qml.PauliZ(1)\n",
    "    qml.IsingXY(angle, [0, 1])\n",
    "    #qml.S(1)\n",
    "    return qml.state()"
   ]
  },
  {
   "cell_type": "code",
   "execution_count": 14,
   "id": "d8ebcbfa",
   "metadata": {},
   "outputs": [
    {
     "data": {
      "text/plain": [
       "array([[1.        +0.j        , 0.        +0.j        ,\n",
       "        0.        +0.j        , 0.        +0.j        ],\n",
       "       [0.        +0.j        , 0.92387953+0.j        ,\n",
       "        0.        -0.38268343j, 0.        +0.j        ],\n",
       "       [0.        +0.j        , 0.        -0.38268343j,\n",
       "        0.92387953+0.j        , 0.        +0.j        ],\n",
       "       [0.        +0.j        , 0.        +0.j        ,\n",
       "        0.        +0.j        , 1.        +0.j        ]])"
      ]
     },
     "execution_count": 14,
     "metadata": {},
     "output_type": "execute_result"
    }
   ],
   "source": [
    "op = qml.IsingXY(math.pi/4, wires=[0, 1]).adjoint()\n",
    "qml.matrix(op)"
   ]
  },
  {
   "cell_type": "code",
   "execution_count": 24,
   "id": "6de5b24a",
   "metadata": {},
   "outputs": [
    {
     "data": {
      "text/plain": [
       "array([[1.+0.j, 0.+0.j],\n",
       "       [0.+0.j, 0.+1.j]])"
      ]
     },
     "execution_count": 24,
     "metadata": {},
     "output_type": "execute_result"
    }
   ],
   "source": [
    "qml.matrix(qml.S(1))"
   ]
  },
  {
   "cell_type": "code",
   "execution_count": 32,
   "id": "fdbfca01",
   "metadata": {},
   "outputs": [
    {
     "data": {
      "text/plain": [
       "array([[1.-0.j, 0.-0.j],\n",
       "       [0.-0.j, 0.-1.j]])"
      ]
     },
     "execution_count": 32,
     "metadata": {},
     "output_type": "execute_result"
    }
   ],
   "source": [
    "qml.matrix(qml.adjoint(qml.S(1)))"
   ]
  },
  {
   "cell_type": "code",
   "execution_count": 5,
   "id": "09cd3e0e",
   "metadata": {},
   "outputs": [
    {
     "name": "stderr",
     "output_type": "stream",
     "text": [
      "/home/pritom/anaconda3/envs/lambeq/lib/python3.9/site-packages/pennylane/tape/stop_recording.py:85: UserWarning: qml.tape.stop_recording has moved to qml.QueuingManager.stop_recording.\n",
      "  warn(\n"
     ]
    },
    {
     "data": {
      "text/plain": [
       "[Hadamard(wires=[0]),\n",
       " Hadamard(wires=[1]),\n",
       " CNOT(wires=[0, 1]),\n",
       " PauliZ(wires=[1]),\n",
       " IsingXY(0.5, wires=[0, 1]),\n",
       " S(wires=[1])]"
      ]
     },
     "execution_count": 5,
     "metadata": {},
     "output_type": "execute_result"
    }
   ],
   "source": [
    "c = circuit_ops(0.5)\n",
    "c"
   ]
  },
  {
   "cell_type": "code",
   "execution_count": 47,
   "id": "3fae72ed",
   "metadata": {},
   "outputs": [
    {
     "ename": "ValueError",
     "evalue": "Input unitary must be of shape (2, 2) or (batch_size, 2, 2).",
     "output_type": "error",
     "traceback": [
      "\u001b[0;31m---------------------------------------------------------------------------\u001b[0m",
      "\u001b[0;31mValueError\u001b[0m                                Traceback (most recent call last)",
      "Input \u001b[0;32mIn [47]\u001b[0m, in \u001b[0;36m<cell line: 1>\u001b[0;34m()\u001b[0m\n\u001b[0;32m----> 1\u001b[0m \u001b[43mqml\u001b[49m\u001b[38;5;241;43m.\u001b[39;49m\u001b[43mControlledQubitUnitary\u001b[49m\u001b[43m(\u001b[49m\u001b[43mqml\u001b[49m\u001b[38;5;241;43m.\u001b[39;49m\u001b[43mmatrix\u001b[49m\u001b[43m(\u001b[49m\u001b[43mc\u001b[49m\u001b[43m[\u001b[49m\u001b[38;5;241;43m-\u001b[39;49m\u001b[38;5;241;43m2\u001b[39;49m\u001b[43m]\u001b[49m\u001b[43m)\u001b[49m\u001b[43m,\u001b[49m\u001b[43m \u001b[49m\u001b[43mcontrol_wires\u001b[49m\u001b[38;5;241;43m=\u001b[39;49m\u001b[43m[\u001b[49m\u001b[38;5;241;43m0\u001b[39;49m\u001b[43m]\u001b[49m\u001b[43m,\u001b[49m\u001b[43m \u001b[49m\u001b[43mwires\u001b[49m\u001b[38;5;241;43m=\u001b[39;49m\u001b[43m[\u001b[49m\u001b[38;5;241;43m1\u001b[39;49m\u001b[43m]\u001b[49m\u001b[43m)\u001b[49m\u001b[38;5;241;43m.\u001b[39;49m\u001b[43madjoint\u001b[49m\u001b[43m(\u001b[49m\u001b[43m)\u001b[49m\n",
      "File \u001b[0;32m~/anaconda3/envs/lambeq/lib/python3.9/site-packages/pennylane/ops/qubit/matrix_ops.py:181\u001b[0m, in \u001b[0;36mQubitUnitary.adjoint\u001b[0;34m(self)\u001b[0m\n\u001b[1;32m    180\u001b[0m \u001b[38;5;28;01mdef\u001b[39;00m \u001b[38;5;21madjoint\u001b[39m(\u001b[38;5;28mself\u001b[39m):\n\u001b[0;32m--> 181\u001b[0m     U \u001b[38;5;241m=\u001b[39m \u001b[38;5;28;43mself\u001b[39;49m\u001b[38;5;241;43m.\u001b[39;49m\u001b[43mmatrix\u001b[49m\u001b[43m(\u001b[49m\u001b[43m)\u001b[49m\n\u001b[1;32m    182\u001b[0m     \u001b[38;5;28;01mreturn\u001b[39;00m QubitUnitary(qml\u001b[38;5;241m.\u001b[39mmath\u001b[38;5;241m.\u001b[39mmoveaxis(qml\u001b[38;5;241m.\u001b[39mmath\u001b[38;5;241m.\u001b[39mconj(U), \u001b[38;5;241m-\u001b[39m\u001b[38;5;241m2\u001b[39m, \u001b[38;5;241m-\u001b[39m\u001b[38;5;241m1\u001b[39m), wires\u001b[38;5;241m=\u001b[39m\u001b[38;5;28mself\u001b[39m\u001b[38;5;241m.\u001b[39mwires)\n",
      "File \u001b[0;32m~/anaconda3/envs/lambeq/lib/python3.9/site-packages/pennylane/operation.py:1405\u001b[0m, in \u001b[0;36mOperation.matrix\u001b[0;34m(self, wire_order)\u001b[0m\n\u001b[1;32m   1404\u001b[0m \u001b[38;5;28;01mdef\u001b[39;00m \u001b[38;5;21mmatrix\u001b[39m(\u001b[38;5;28mself\u001b[39m, wire_order\u001b[38;5;241m=\u001b[39m\u001b[38;5;28;01mNone\u001b[39;00m):\n\u001b[0;32m-> 1405\u001b[0m     canonical_matrix \u001b[38;5;241m=\u001b[39m \u001b[38;5;28;43mself\u001b[39;49m\u001b[38;5;241;43m.\u001b[39;49m\u001b[43mcompute_matrix\u001b[49m\u001b[43m(\u001b[49m\u001b[38;5;241;43m*\u001b[39;49m\u001b[38;5;28;43mself\u001b[39;49m\u001b[38;5;241;43m.\u001b[39;49m\u001b[43mparameters\u001b[49m\u001b[43m,\u001b[49m\u001b[43m \u001b[49m\u001b[38;5;241;43m*\u001b[39;49m\u001b[38;5;241;43m*\u001b[39;49m\u001b[38;5;28;43mself\u001b[39;49m\u001b[38;5;241;43m.\u001b[39;49m\u001b[43mhyperparameters\u001b[49m\u001b[43m)\u001b[49m\n\u001b[1;32m   1407\u001b[0m     \u001b[38;5;28;01mif\u001b[39;00m \u001b[38;5;28mself\u001b[39m\u001b[38;5;241m.\u001b[39minverse:\n\u001b[1;32m   1408\u001b[0m         canonical_matrix \u001b[38;5;241m=\u001b[39m qml\u001b[38;5;241m.\u001b[39mmath\u001b[38;5;241m.\u001b[39mconj(qml\u001b[38;5;241m.\u001b[39mmath\u001b[38;5;241m.\u001b[39mmoveaxis(canonical_matrix, \u001b[38;5;241m-\u001b[39m\u001b[38;5;241m2\u001b[39m, \u001b[38;5;241m-\u001b[39m\u001b[38;5;241m1\u001b[39m))\n",
      "File \u001b[0;32m~/anaconda3/envs/lambeq/lib/python3.9/site-packages/pennylane/ops/qubit/matrix_ops.py:319\u001b[0m, in \u001b[0;36mControlledQubitUnitary.compute_matrix\u001b[0;34m(U, control_wires, u_wires, control_values)\u001b[0m\n\u001b[1;32m    317\u001b[0m shape \u001b[38;5;241m=\u001b[39m qml\u001b[38;5;241m.\u001b[39mmath\u001b[38;5;241m.\u001b[39mshape(U)\n\u001b[1;32m    318\u001b[0m \u001b[38;5;28;01mif\u001b[39;00m \u001b[38;5;129;01mnot\u001b[39;00m (\u001b[38;5;28mlen\u001b[39m(shape) \u001b[38;5;129;01min\u001b[39;00m {\u001b[38;5;241m2\u001b[39m, \u001b[38;5;241m3\u001b[39m} \u001b[38;5;129;01mand\u001b[39;00m shape[\u001b[38;5;241m-\u001b[39m\u001b[38;5;241m2\u001b[39m:] \u001b[38;5;241m==\u001b[39m (target_dim, target_dim)):\n\u001b[0;32m--> 319\u001b[0m     \u001b[38;5;28;01mraise\u001b[39;00m \u001b[38;5;167;01mValueError\u001b[39;00m(\n\u001b[1;32m    320\u001b[0m         \u001b[38;5;124mf\u001b[39m\u001b[38;5;124m\"\u001b[39m\u001b[38;5;124mInput unitary must be of shape \u001b[39m\u001b[38;5;132;01m{\u001b[39;00m(target_dim, target_dim)\u001b[38;5;132;01m}\u001b[39;00m\u001b[38;5;124m or \u001b[39m\u001b[38;5;124m\"\u001b[39m\n\u001b[1;32m    321\u001b[0m         \u001b[38;5;124mf\u001b[39m\u001b[38;5;124m\"\u001b[39m\u001b[38;5;124m(batch_size, \u001b[39m\u001b[38;5;132;01m{\u001b[39;00mtarget_dim\u001b[38;5;132;01m}\u001b[39;00m\u001b[38;5;124m, \u001b[39m\u001b[38;5;132;01m{\u001b[39;00mtarget_dim\u001b[38;5;132;01m}\u001b[39;00m\u001b[38;5;124m).\u001b[39m\u001b[38;5;124m\"\u001b[39m\n\u001b[1;32m    322\u001b[0m     )\n\u001b[1;32m    324\u001b[0m \u001b[38;5;66;03m# A multi-controlled operation is a block-diagonal matrix partitioned into\u001b[39;00m\n\u001b[1;32m    325\u001b[0m \u001b[38;5;66;03m# blocks where the operation being applied sits in the block positioned at\u001b[39;00m\n\u001b[1;32m    326\u001b[0m \u001b[38;5;66;03m# the integer value of the control string. For example, controlling a\u001b[39;00m\n\u001b[0;32m   (...)\u001b[0m\n\u001b[1;32m    329\u001b[0m \u001b[38;5;66;03m# etc. The positioning of the block is controlled by padding the block diagonal\u001b[39;00m\n\u001b[1;32m    330\u001b[0m \u001b[38;5;66;03m# to the left and right with the correct amount of identity blocks.\u001b[39;00m\n\u001b[1;32m    332\u001b[0m total_wires \u001b[38;5;241m=\u001b[39m qml\u001b[38;5;241m.\u001b[39mwires\u001b[38;5;241m.\u001b[39mWires(control_wires) \u001b[38;5;241m+\u001b[39m qml\u001b[38;5;241m.\u001b[39mwires\u001b[38;5;241m.\u001b[39mWires(u_wires)\n",
      "\u001b[0;31mValueError\u001b[0m: Input unitary must be of shape (2, 2) or (batch_size, 2, 2)."
     ]
    }
   ],
   "source": [
    "qml.ControlledQubitUnitary(qml.matrix(c[-2]), control_wires=[0], wires=[1]).adjoint()"
   ]
  },
  {
   "cell_type": "code",
   "execution_count": 58,
   "id": "18014b69",
   "metadata": {},
   "outputs": [
    {
     "data": {
      "text/plain": [
       "array([[1.-0.j, 0.-0.j],\n",
       "       [0.-0.j, 0.-1.j]])"
      ]
     },
     "execution_count": 58,
     "metadata": {},
     "output_type": "execute_result"
    }
   ],
   "source": [
    "qml.matrix(qml.adjoint(qml.S(1)))"
   ]
  },
  {
   "cell_type": "code",
   "execution_count": 60,
   "id": "36dfe5eb",
   "metadata": {},
   "outputs": [
    {
     "data": {
      "text/plain": [
       "array([[1, 0, 0, 0],\n",
       "       [0, 1, 0, 0],\n",
       "       [0, 0, 0, 1],\n",
       "       [0, 0, 1, 0]])"
      ]
     },
     "execution_count": 60,
     "metadata": {},
     "output_type": "execute_result"
    }
   ],
   "source": [
    "qml.matrix(qml.CNOT(wires=[0, 1]).adjoint())"
   ]
  },
  {
   "cell_type": "code",
   "execution_count": null,
   "id": "9882ee52",
   "metadata": {},
   "outputs": [],
   "source": []
  }
 ],
 "metadata": {
  "kernelspec": {
   "display_name": "Python 3 (ipykernel)",
   "language": "python",
   "name": "python3"
  },
  "language_info": {
   "codemirror_mode": {
    "name": "ipython",
    "version": 3
   },
   "file_extension": ".py",
   "mimetype": "text/x-python",
   "name": "python",
   "nbconvert_exporter": "python",
   "pygments_lexer": "ipython3",
   "version": "3.9.12"
  }
 },
 "nbformat": 4,
 "nbformat_minor": 5
}
