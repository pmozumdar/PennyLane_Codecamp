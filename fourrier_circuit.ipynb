{
 "cells": [
  {
   "cell_type": "code",
   "execution_count": 1,
   "id": "ef38ca37",
   "metadata": {},
   "outputs": [],
   "source": [
    "import functools\n",
    "import json\n",
    "import math\n",
    "import pandas as pd\n",
    "import pennylane as qml\n",
    "import pennylane.numpy as np\n",
    "import scipy"
   ]
  },
  {
   "cell_type": "code",
   "execution_count": 2,
   "id": "afa10ccf",
   "metadata": {},
   "outputs": [],
   "source": [
    "def quantum_model(n, train_params, x, model_type):\n",
    "    \"\"\"\n",
    "    Builds an in-series or parallel quantum model according to the specifications in the problem statement, returning\n",
    "    the expectation value on the first wire.\n",
    "\n",
    "    Args: \n",
    "        n (int): The total number of encoding gates. Assumed to be smaller than,\n",
    "                or equal to, the number of wires (3).\n",
    "        train_params (list(float)): A list of length n + 1, which indicates the rotation parameter characterizing\n",
    "                    the trainable circuit. If the circuit is parallel, only the first two parameters are used.\n",
    "        x (float): A real number representing the input data point.\n",
    "        model_type (str): A string that is \"series\" or \"parallel\", depending on the type of model.  \n",
    "\n",
    "    Returns: \n",
    "        (float): The expectation value of PauliZ measurements on the first wire.\n",
    "    \"\"\" \n",
    "    \n",
    "    num_wires=3\n",
    "\n",
    "    dev = qml.device('default.qubit', wires = num_wires)\n",
    "\n",
    "    # Write any helper functions, such as subcircuits you may use later, here.\n",
    "    \n",
    "    @qml.qnode(dev)\n",
    "    def circuit(n, train_params, x, model_type):\n",
    "        def train_block(tr_param):\n",
    "            qml.Hadamard(wires=0)\n",
    "            qml.CRX(tr_param, wires=[0, 1])\n",
    "            qml.Hadamard(wires=1)\n",
    "            qml.CRX(tr_param, wires=[1, 2])\n",
    "            qml.Hadamard(wires=2)\n",
    "            qml.CRX(tr_param, wires=[2, 0])\n",
    "            \n",
    "        if model_type == \"parallel\":\n",
    "            # Put your code here #\n",
    "            train_block(train_params[0])\n",
    "            for i in range(n):\n",
    "                qml.RX(x, wires=i)\n",
    "            train_block(train_params[1])\n",
    "        elif model_type == \"series\":\n",
    "            # Put your code here #\n",
    "            for i in range(n):\n",
    "                train_block(train_params[i])\n",
    "                qml.RX(x, wires=0)\n",
    "            train_block(train_params[n])\n",
    "            \n",
    "        # Return an expectation value\n",
    "        return qml.expval(qml.PauliZ(0))\n",
    "\n",
    "    # Finally, return a float, not a numpy tensor. You can do this using the .numpy() method!\n",
    "    #result = circuit(n, train_params, x, model_type)\n",
    "    #print(result)\n",
    "    return circuit(n, train_params, x, model_type)#.numpy()"
   ]
  },
  {
   "cell_type": "code",
   "execution_count": 3,
   "id": "7dfc2cb8",
   "metadata": {},
   "outputs": [],
   "source": [
    "# These functions are responsible for testing the solution.\n",
    "\n",
    "def run(test_case_input: str) -> str:\n",
    "\n",
    "    ins = json.loads(test_case_input)\n",
    "    output = quantum_model(*ins)\n",
    "\n",
    "    return str(output)\n",
    "\n",
    "def check(solution_output: str, expected_output: str) -> None:\n",
    "    \"\"\"\n",
    "    Compare solution with expected.\n",
    "\n",
    "    Args:\n",
    "            solution_output: The output from an evaluated solution. Will be\n",
    "            the same type as returned.\n",
    "            expected_output: The correct result for the test case.\n",
    "\n",
    "    Raises: \n",
    "            ``AssertionError`` if the solution output is incorrect in any way.\n",
    "    \"\"\"\n",
    "\n",
    "    solution_output = json.loads(solution_output)\n",
    "    expected_output = json.loads(expected_output)\n",
    "    assert np.allclose(\n",
    "        solution_output, expected_output, rtol=1e-2\n",
    "    ), \"Your circuit doesn't look quite right.\"\n"
   ]
  },
  {
   "cell_type": "code",
   "execution_count": 4,
   "id": "8506f09b",
   "metadata": {},
   "outputs": [],
   "source": [
    "test_cases = [['[2,[0.4,0.8,1.0],1.2,\"parallel\"]', '0.977856732420062'], ['[3,[0.6,0.7,0.8,1.2],1.3,\"series\"]', '0.37048658401504975']]"
   ]
  },
  {
   "cell_type": "code",
   "execution_count": 5,
   "id": "af6c10f1",
   "metadata": {},
   "outputs": [
    {
     "name": "stdout",
     "output_type": "stream",
     "text": [
      "Running test case 0 with input '[2,[0.4,0.8,1.0],1.2,\"parallel\"]'...\n",
      "Correct!\n",
      "Running test case 1 with input '[3,[0.6,0.7,0.8,1.2],1.3,\"series\"]'...\n",
      "Correct!\n"
     ]
    }
   ],
   "source": [
    "for i, (input_, expected_output) in enumerate(test_cases):\n",
    "    print(f\"Running test case {i} with input '{input_}'...\")\n",
    "\n",
    "    try:\n",
    "        output = run(input_)\n",
    "\n",
    "    except Exception as exc:\n",
    "        print(f\"Runtime Error. {exc}\")\n",
    "\n",
    "    else:\n",
    "        if message := check(output, expected_output):\n",
    "            print(f\"Wrong Answer. Have: '{output}'. Want: '{expected_output}'.\")\n",
    "\n",
    "        else:\n",
    "            print(\"Correct!\")"
   ]
  },
  {
   "cell_type": "code",
   "execution_count": null,
   "id": "c88e1b63",
   "metadata": {},
   "outputs": [],
   "source": []
  }
 ],
 "metadata": {
  "kernelspec": {
   "display_name": "Python 3 (ipykernel)",
   "language": "python",
   "name": "python3"
  },
  "language_info": {
   "codemirror_mode": {
    "name": "ipython",
    "version": 3
   },
   "file_extension": ".py",
   "mimetype": "text/x-python",
   "name": "python",
   "nbconvert_exporter": "python",
   "pygments_lexer": "ipython3",
   "version": "3.9.12"
  }
 },
 "nbformat": 4,
 "nbformat_minor": 5
}
