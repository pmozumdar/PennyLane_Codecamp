{
 "cells": [
  {
   "cell_type": "code",
   "execution_count": 1,
   "id": "5680ea16",
   "metadata": {},
   "outputs": [],
   "source": [
    "import functools\n",
    "import json\n",
    "import math\n",
    "import pandas as pd\n",
    "import pennylane as qml\n",
    "import pennylane.numpy as np\n",
    "import scipy"
   ]
  },
  {
   "cell_type": "code",
   "execution_count": 6,
   "id": "64739efc",
   "metadata": {},
   "outputs": [],
   "source": [
    "def circuit():\n",
    "    \"\"\"\n",
    "    Succession of gates that will generate the requested matrix.\n",
    "    This function does not receive any arguments nor does it return any values.\n",
    "    \"\"\"\n",
    "\n",
    "    # Put your solution here ...\n",
    "    # You only have to put U3 or CNOT gates\n",
    "    qml.U3(math.pi, 0, 0, wires=0)\n",
    "    qml.CNOT(wires=[0,1])\n",
    "    qml.CNOT(wires=[1,0])\n",
    "    qml.CNOT(wires=[2,1])\n",
    "\n",
    "    return qml.state()"
   ]
  },
  {
   "cell_type": "code",
   "execution_count": 7,
   "id": "46398bb6",
   "metadata": {},
   "outputs": [
    {
     "name": "stdout",
     "output_type": "stream",
     "text": [
      "Running test case 0 with input 'No input'...\n",
      "[[ 6.123234e-17  0.000000e+00  0.000000e+00  0.000000e+00 -1.000000e+00\n",
      "   0.000000e+00  0.000000e+00  0.000000e+00]\n",
      " [ 0.000000e+00  1.000000e+00  0.000000e+00  0.000000e+00  0.000000e+00\n",
      "   6.123234e-17  0.000000e+00  0.000000e+00]\n",
      " [ 1.000000e+00  0.000000e+00  0.000000e+00  0.000000e+00  6.123234e-17\n",
      "   0.000000e+00  0.000000e+00  0.000000e+00]\n",
      " [ 0.000000e+00  6.123234e-17  0.000000e+00  0.000000e+00  0.000000e+00\n",
      "  -1.000000e+00  0.000000e+00  0.000000e+00]\n",
      " [ 0.000000e+00  0.000000e+00  1.000000e+00  0.000000e+00  0.000000e+00\n",
      "   0.000000e+00  6.123234e-17  0.000000e+00]\n",
      " [ 0.000000e+00  0.000000e+00  0.000000e+00  6.123234e-17  0.000000e+00\n",
      "   0.000000e+00  0.000000e+00 -1.000000e+00]\n",
      " [ 0.000000e+00  0.000000e+00  6.123234e-17  0.000000e+00  0.000000e+00\n",
      "   0.000000e+00 -1.000000e+00  0.000000e+00]\n",
      " [ 0.000000e+00  0.000000e+00  0.000000e+00  1.000000e+00  0.000000e+00\n",
      "   0.000000e+00  0.000000e+00  6.123234e-17]]\n"
     ]
    },
    {
     "ename": "AssertionError",
     "evalue": "",
     "output_type": "error",
     "traceback": [
      "\u001b[0;31m---------------------------------------------------------------------------\u001b[0m",
      "\u001b[0;31mAssertionError\u001b[0m                            Traceback (most recent call last)",
      "Input \u001b[0;32mIn [7]\u001b[0m, in \u001b[0;36m<cell line: 40>\u001b[0;34m()\u001b[0m\n\u001b[1;32m     47\u001b[0m     \u001b[38;5;28mprint\u001b[39m(\u001b[38;5;124mf\u001b[39m\u001b[38;5;124m\"\u001b[39m\u001b[38;5;124mRuntime Error. \u001b[39m\u001b[38;5;132;01m{\u001b[39;00mexc\u001b[38;5;132;01m}\u001b[39;00m\u001b[38;5;124m\"\u001b[39m)\n\u001b[1;32m     49\u001b[0m \u001b[38;5;28;01melse\u001b[39;00m:\n\u001b[0;32m---> 50\u001b[0m     \u001b[38;5;28;01mif\u001b[39;00m message \u001b[38;5;241m:=\u001b[39m \u001b[43mcheck\u001b[49m\u001b[43m(\u001b[49m\u001b[43moutput\u001b[49m\u001b[43m,\u001b[49m\u001b[43m \u001b[49m\u001b[43mexpected_output\u001b[49m\u001b[43m)\u001b[49m:\n\u001b[1;32m     51\u001b[0m         \u001b[38;5;28mprint\u001b[39m(\u001b[38;5;124mf\u001b[39m\u001b[38;5;124m\"\u001b[39m\u001b[38;5;124mWrong Answer. Have: \u001b[39m\u001b[38;5;124m'\u001b[39m\u001b[38;5;132;01m{\u001b[39;00moutput\u001b[38;5;132;01m}\u001b[39;00m\u001b[38;5;124m'\u001b[39m\u001b[38;5;124m. Want: \u001b[39m\u001b[38;5;124m'\u001b[39m\u001b[38;5;132;01m{\u001b[39;00mexpected_output\u001b[38;5;132;01m}\u001b[39;00m\u001b[38;5;124m'\u001b[39m\u001b[38;5;124m.\u001b[39m\u001b[38;5;124m\"\u001b[39m)\n\u001b[1;32m     53\u001b[0m     \u001b[38;5;28;01melse\u001b[39;00m:\n",
      "Input \u001b[0;32mIn [7]\u001b[0m, in \u001b[0;36mcheck\u001b[0;34m(user_output, expected_output)\u001b[0m\n\u001b[1;32m     15\u001b[0m gates \u001b[38;5;241m=\u001b[39m parsed_output[\u001b[38;5;124m\"\u001b[39m\u001b[38;5;124mgates\u001b[39m\u001b[38;5;124m\"\u001b[39m]\n\u001b[1;32m     17\u001b[0m solution \u001b[38;5;241m=\u001b[39m (\n\u001b[1;32m     18\u001b[0m     \u001b[38;5;241m1\u001b[39m\n\u001b[1;32m     19\u001b[0m     \u001b[38;5;241m/\u001b[39m np\u001b[38;5;241m.\u001b[39msqrt(\u001b[38;5;241m2\u001b[39m)\n\u001b[0;32m   (...)\u001b[0m\n\u001b[1;32m     31\u001b[0m     )\n\u001b[1;32m     32\u001b[0m )\n\u001b[0;32m---> 34\u001b[0m \u001b[38;5;28;01massert\u001b[39;00m np\u001b[38;5;241m.\u001b[39mallclose(matrix_user, solution)\n\u001b[1;32m     35\u001b[0m \u001b[38;5;28;01massert\u001b[39;00m \u001b[38;5;28mlen\u001b[39m(\u001b[38;5;28mset\u001b[39m(gates)) \u001b[38;5;241m==\u001b[39m \u001b[38;5;241m2\u001b[39m \u001b[38;5;129;01mand\u001b[39;00m \u001b[38;5;124m\"\u001b[39m\u001b[38;5;124mU3\u001b[39m\u001b[38;5;124m\"\u001b[39m \u001b[38;5;129;01min\u001b[39;00m gates \u001b[38;5;129;01mand\u001b[39;00m \u001b[38;5;124m\"\u001b[39m\u001b[38;5;124mCNOT\u001b[39m\u001b[38;5;124m\"\u001b[39m \u001b[38;5;129;01min\u001b[39;00m gates\n",
      "\u001b[0;31mAssertionError\u001b[0m: "
     ]
    }
   ],
   "source": [
    "# These functions are responsible for testing the solution.\n",
    "\n",
    "def run(input: str) -> str:\n",
    "    matrix = qml.matrix(circuit)().real\n",
    "    print(matrix)\n",
    "    with qml.tape.QuantumTape() as tape:\n",
    "        circuit()\n",
    "\n",
    "    names = [op.name for op in tape.operations]\n",
    "    return json.dumps({\"matrix\": matrix.tolist(), \"gates\": names})\n",
    "\n",
    "def check(user_output: str, expected_output: str) -> str:\n",
    "    parsed_output = json.loads(user_output)\n",
    "    matrix_user = np.array(parsed_output[\"matrix\"])\n",
    "    gates = parsed_output[\"gates\"]\n",
    "\n",
    "    solution = (\n",
    "        1\n",
    "        / np.sqrt(2)\n",
    "        * np.array(\n",
    "            [\n",
    "                [1, 1, 0, 0, 0, 0, 0, 0],\n",
    "                [1, -1, 0, 0, 0, 0, 0, 0],\n",
    "                [0, 0, -1, -1, 0, 0, 0, 0],\n",
    "                [0, 0, -1, 1, 0, 0, 0, 0],\n",
    "                [0, 0, 0, 0, 1, 1, 0, 0],\n",
    "                [0, 0, 0, 0, 1, -1, 0, 0],\n",
    "                [0, 0, 0, 0, 0, 0, 1, 1],\n",
    "                [0, 0, 0, 0, 0, 0, 1, -1],\n",
    "            ]\n",
    "        )\n",
    "    )\n",
    "\n",
    "    assert np.allclose(matrix_user, solution)\n",
    "    assert len(set(gates)) == 2 and \"U3\" in gates and \"CNOT\" in gates\n",
    "\n",
    "\n",
    "test_cases = [['No input', 'No output']]\n",
    "\n",
    "for i, (input_, expected_output) in enumerate(test_cases):\n",
    "    print(f\"Running test case {i} with input '{input_}'...\")\n",
    "\n",
    "    try:\n",
    "        output = run(input_)\n",
    "\n",
    "    except Exception as exc:\n",
    "        print(f\"Runtime Error. {exc}\")\n",
    "\n",
    "    else:\n",
    "        if message := check(output, expected_output):\n",
    "            print(f\"Wrong Answer. Have: '{output}'. Want: '{expected_output}'.\")\n",
    "\n",
    "        else:\n",
    "            print(\"Correct!\")"
   ]
  },
  {
   "cell_type": "code",
   "execution_count": 65,
   "id": "c2e907bf",
   "metadata": {},
   "outputs": [],
   "source": [
    "H = 1/ np.sqrt(2)*np.matrix([\n",
    "                [1, 1, 0, 0, 0, 0, 0, 0],\n",
    "                [1, -1, 0, 0, 0, 0, 0, 0],\n",
    "                [0, 0, -1, -1, 0, 0, 0, 0],\n",
    "                [0, 0, -1, 1, 0, 0, 0, 0],\n",
    "                [0, 0, 0, 0, 1, 1, 0, 0],\n",
    "                [0, 0, 0, 0, 1, -1, 0, 0],\n",
    "                [0, 0, 0, 0, 0, 0, 1, 1],\n",
    "                [0, 0, 0, 0, 0, 0, 1, -1],\n",
    "            ])"
   ]
  },
  {
   "cell_type": "code",
   "execution_count": 63,
   "id": "5c830aa6",
   "metadata": {},
   "outputs": [
    {
     "data": {
      "text/plain": [
       "(U3(0, -0.7853981633974483, 0.7853981633974483, wires=[1]),\n",
       " U3(0, 0.7853981633974483, 0.7853981633974483, wires=[2]),\n",
       " CNOT(wires=[2, 1]),\n",
       " CNOT(wires=[2, 0]))"
      ]
     },
     "execution_count": 63,
     "metadata": {},
     "output_type": "execute_result"
    }
   ],
   "source": []
  },
  {
   "cell_type": "code",
   "execution_count": 123,
   "id": "35af9d95",
   "metadata": {},
   "outputs": [
    {
     "data": {
      "text/plain": [
       "tensor([[ 1.,  0.,  0.,  0.,  0.,  0., -1., -0.],\n",
       "        [-0., -1.,  0.,  0.,  0.,  0.,  0.,  1.],\n",
       "        [ 0.,  0., -0.,  1., -0., -1.,  0.,  0.],\n",
       "        [ 0.,  0., -1.,  0.,  1.,  0.,  0.,  0.],\n",
       "        [-0., -1.,  0.,  0.,  0.,  0., -0.,  1.],\n",
       "        [ 1., -0.,  0.,  0.,  0.,  0., -1.,  0.],\n",
       "        [ 0.,  0., -1., -0.,  1., -0.,  0.,  0.],\n",
       "        [ 0.,  0.,  0.,  1.,  0., -1.,  0.,  0.]], requires_grad=True)"
      ]
     },
     "execution_count": 123,
     "metadata": {},
     "output_type": "execute_result"
    }
   ],
   "source": [
    "np.round(2*qml.matrix(qml.prod(qml.U3(-np.pi/2, np.pi/2, np.pi/2, 0), qml.U3(-np.pi/2, -np.pi/2, -np.pi/2, 1), qml.U3(0, np.pi/2, np.pi/2, 2), qml.CNOT(wires=[0, 2]), qml.U3(0, np.pi/2, np.pi/2, 2),qml.CNOT(wires=[2, 1]))).real, 3)"
   ]
  },
  {
   "cell_type": "code",
   "execution_count": 60,
   "id": "21286a5a",
   "metadata": {},
   "outputs": [
    {
     "data": {
      "text/plain": [
       "tensor([[-1., -0., -0., -0.,  0.,  0.,  0.,  0.],\n",
       "        [-0., -1., -0., -0.,  0., -0., -0.,  0.],\n",
       "        [ 0., -0., -0., -1., -0.,  0.,  0.,  0.],\n",
       "        [-0.,  0., -1., -0.,  0.,  0., -0.,  0.],\n",
       "        [ 0.,  0.,  0.,  0., -1., -0., -0., -0.],\n",
       "        [ 0., -0., -0.,  0., -0., -1., -0., -0.],\n",
       "        [-0.,  0.,  0.,  0.,  0., -0., -0., -1.],\n",
       "        [ 0.,  0., -0.,  0., -0.,  0., -1., -0.]], requires_grad=True)"
      ]
     },
     "execution_count": 60,
     "metadata": {},
     "output_type": "execute_result"
    }
   ],
   "source": [
    "np.round(qml.matrix(qml.prod(qml.RX(math.pi*2, 0), qml.RY(math.pi*2, 1), qml.RZ(math.pi*2, 2), qml.CNOT(wires=[1,2]))).real)"
   ]
  },
  {
   "cell_type": "code",
   "execution_count": 66,
   "id": "d8860761",
   "metadata": {},
   "outputs": [
    {
     "data": {
      "text/plain": [
       "matrix([[ 0.5,  0.5,  0. ,  0. ,  0. ,  0. ,  0. ,  0. ],\n",
       "        [ 0.5, -0.5, -0. , -0. , -0. , -0. , -0. , -0. ],\n",
       "        [-0. , -0. , -0.5, -0.5, -0. , -0. , -0. , -0. ],\n",
       "        [ 0. ,  0. , -0.5,  0.5,  0. ,  0. ,  0. ,  0. ],\n",
       "        [ 0. ,  0. ,  0. ,  0. ,  0.5,  0.5,  0. ,  0. ],\n",
       "        [-0. , -0. , -0. , -0. ,  0.5, -0.5, -0. , -0. ],\n",
       "        [ 0. ,  0. ,  0. ,  0. ,  0. ,  0. ,  0.5,  0.5],\n",
       "        [-0. , -0. , -0. , -0. , -0. , -0. ,  0.5, -0.5]])"
      ]
     },
     "execution_count": 66,
     "metadata": {},
     "output_type": "execute_result"
    }
   ],
   "source": [
    "H.getI()"
   ]
  },
  {
   "cell_type": "code",
   "execution_count": 69,
   "id": "880153d1",
   "metadata": {},
   "outputs": [
    {
     "ename": "ValueError",
     "evalue": "Input unitary must be of shape (9, 9) or (batch_size, 9, 9) to act on 2 wires.",
     "output_type": "error",
     "traceback": [
      "\u001b[0;31m---------------------------------------------------------------------------\u001b[0m",
      "\u001b[0;31mValueError\u001b[0m                                Traceback (most recent call last)",
      "Input \u001b[0;32mIn [69]\u001b[0m, in \u001b[0;36m<cell line: 1>\u001b[0;34m()\u001b[0m\n\u001b[0;32m----> 1\u001b[0m \u001b[43mqml\u001b[49m\u001b[38;5;241;43m.\u001b[39;49m\u001b[43mQutritUnitary\u001b[49m\u001b[43m(\u001b[49m\u001b[43mH\u001b[49m\u001b[43m,\u001b[49m\u001b[43m \u001b[49m\u001b[43mwires\u001b[49m\u001b[38;5;241;43m=\u001b[39;49m\u001b[43m[\u001b[49m\u001b[38;5;241;43m0\u001b[39;49m\u001b[43m,\u001b[49m\u001b[43m \u001b[49m\u001b[38;5;241;43m1\u001b[39;49m\u001b[43m]\u001b[49m\u001b[43m)\u001b[49m\n",
      "File \u001b[0;32m~/anaconda3/envs/lambeq/lib/python3.9/site-packages/pennylane/ops/qutrit/matrix_ops.py:75\u001b[0m, in \u001b[0;36mQutritUnitary.__init__\u001b[0;34m(self, wires, do_queue, *params)\u001b[0m\n\u001b[1;32m     72\u001b[0m dim \u001b[38;5;241m=\u001b[39m \u001b[38;5;241m3\u001b[39m \u001b[38;5;241m*\u001b[39m\u001b[38;5;241m*\u001b[39m \u001b[38;5;28mlen\u001b[39m(wires)\n\u001b[1;32m     74\u001b[0m \u001b[38;5;28;01mif\u001b[39;00m \u001b[38;5;129;01mnot\u001b[39;00m (\u001b[38;5;28mlen\u001b[39m(U_shape) \u001b[38;5;129;01min\u001b[39;00m {\u001b[38;5;241m2\u001b[39m, \u001b[38;5;241m3\u001b[39m} \u001b[38;5;129;01mand\u001b[39;00m U_shape[\u001b[38;5;241m-\u001b[39m\u001b[38;5;241m2\u001b[39m:] \u001b[38;5;241m==\u001b[39m (dim, dim)):\n\u001b[0;32m---> 75\u001b[0m     \u001b[38;5;28;01mraise\u001b[39;00m \u001b[38;5;167;01mValueError\u001b[39;00m(\n\u001b[1;32m     76\u001b[0m         \u001b[38;5;124mf\u001b[39m\u001b[38;5;124m\"\u001b[39m\u001b[38;5;124mInput unitary must be of shape \u001b[39m\u001b[38;5;132;01m{\u001b[39;00m(dim, dim)\u001b[38;5;132;01m}\u001b[39;00m\u001b[38;5;124m or (batch_size, \u001b[39m\u001b[38;5;132;01m{\u001b[39;00mdim\u001b[38;5;132;01m}\u001b[39;00m\u001b[38;5;124m, \u001b[39m\u001b[38;5;132;01m{\u001b[39;00mdim\u001b[38;5;132;01m}\u001b[39;00m\u001b[38;5;124m) \u001b[39m\u001b[38;5;124m\"\u001b[39m\n\u001b[1;32m     77\u001b[0m         \u001b[38;5;124mf\u001b[39m\u001b[38;5;124m\"\u001b[39m\u001b[38;5;124mto act on \u001b[39m\u001b[38;5;132;01m{\u001b[39;00m\u001b[38;5;28mlen\u001b[39m(wires)\u001b[38;5;132;01m}\u001b[39;00m\u001b[38;5;124m wires.\u001b[39m\u001b[38;5;124m\"\u001b[39m\n\u001b[1;32m     78\u001b[0m     )\n\u001b[1;32m     80\u001b[0m \u001b[38;5;66;03m# Check for unitarity; due to variable precision across the different ML frameworks,\u001b[39;00m\n\u001b[1;32m     81\u001b[0m \u001b[38;5;66;03m# here we issue a warning to check the operation, instead of raising an error outright.\u001b[39;00m\n\u001b[1;32m     82\u001b[0m \u001b[38;5;28;01mif\u001b[39;00m \u001b[38;5;129;01mnot\u001b[39;00m (\n\u001b[1;32m     83\u001b[0m     qml\u001b[38;5;241m.\u001b[39mmath\u001b[38;5;241m.\u001b[39mis_abstract(U)\n\u001b[1;32m     84\u001b[0m     \u001b[38;5;129;01mor\u001b[39;00m qml\u001b[38;5;241m.\u001b[39mmath\u001b[38;5;241m.\u001b[39mallclose(\n\u001b[0;32m   (...)\u001b[0m\n\u001b[1;32m     88\u001b[0m     )\n\u001b[1;32m     89\u001b[0m ):\n",
      "\u001b[0;31mValueError\u001b[0m: Input unitary must be of shape (9, 9) or (batch_size, 9, 9) to act on 2 wires."
     ]
    }
   ],
   "source": [
    "qml.QutritUnitary(H, wires=[0, 1])"
   ]
  },
  {
   "cell_type": "code",
   "execution_count": null,
   "id": "99d96ffb",
   "metadata": {},
   "outputs": [],
   "source": []
  }
 ],
 "metadata": {
  "kernelspec": {
   "display_name": "Python 3 (ipykernel)",
   "language": "python",
   "name": "python3"
  },
  "language_info": {
   "codemirror_mode": {
    "name": "ipython",
    "version": 3
   },
   "file_extension": ".py",
   "mimetype": "text/x-python",
   "name": "python",
   "nbconvert_exporter": "python",
   "pygments_lexer": "ipython3",
   "version": "3.9.12"
  }
 },
 "nbformat": 4,
 "nbformat_minor": 5
}
