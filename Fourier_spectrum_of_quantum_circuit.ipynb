{
 "cells": [
  {
   "cell_type": "code",
   "execution_count": 1,
   "id": "d5e4e981",
   "metadata": {},
   "outputs": [],
   "source": [
    "import functools\n",
    "import json\n",
    "import math\n",
    "import pandas as pd\n",
    "import pennylane as qml\n",
    "import pennylane.numpy as np\n",
    "import scipy"
   ]
  },
  {
   "cell_type": "code",
   "execution_count": 2,
   "id": "445b97f4",
   "metadata": {},
   "outputs": [],
   "source": [
    "def fourier_decomp(layers_params):\n",
    "    \"\"\"\n",
    "    Returns the frequencies and coefficient of our quantum model, specified by layers_params\n",
    "\n",
    "    Args:\n",
    "    layers_params: list(list(list(float))). Specifies the number of basic entangling layers and their\n",
    "    parameters as explained in the statement of the problem.\n",
    "\n",
    "    Returns: list([float,float,float]). A list three-element list. The first element of each \n",
    "    list is the frequency. The second\n",
    "    element is the real part of the coefficient associated with that frequency in the Fourier \n",
    "    decomposition. The third element\n",
    "    is the imaginary part of such coefficient.\n",
    "    \"\"\"\n",
    "\n",
    "    dev = qml.device(\"default.qubit\", wires=4)\n",
    "\n",
    "    @qml.qnode(dev)\n",
    "    def circuit(layers_params, x):\n",
    "        \"\"\"\n",
    "        This function is the quantum circuit made of alternating entangling layers and rotations \n",
    "        representing our quantum model\n",
    "        \"\"\"\n",
    "        # Put your code here #\n",
    "        # Return a single expectation value!\n",
    "        m = len(layers_params)\n",
    "        for l in layers_params:\n",
    "            #print(l)\n",
    "            qml.BasicEntanglerLayers(weights=l, wires=range(4))\n",
    "            if m > 1:\n",
    "                for i in range(4):\n",
    "                    qml.RX(x, wires=i, id='x')\n",
    "                m -= 1\n",
    "        return qml.expval(qml.PauliZ(0))\n",
    "\n",
    "    # Use the Fourier module to obtain the coefficients and frequencies. Then return the required \n",
    "    # list of lists.\n",
    "    \n",
    "    #fig, ax = qml.draw_mpl(circuit)(layers_params, 1.0)\n",
    "    #fig.show()\n",
    "    freq_list = qml.fourier.circuit_spectrum(circuit)(layers_params, 1.0)['x']\n",
    "    coeff_list = qml.fourier.coefficients(functools.partial(circuit, layers_params),1, len(freq_list)//2)\n",
    "    \n",
    "    result = []\n",
    "    n = len(freq_list)//2\n",
    "    for i in range(n):\n",
    "        result.append([freq_list[i], coeff_list.real[n+1+i], coeff_list.imag[n+1+i]])\n",
    "    for i in range(n+1):\n",
    "        result.append([freq_list[n+i], coeff_list.real[i], coeff_list.imag[i]])\n",
    "        \n",
    "    #print(result)\n",
    "    return result"
   ]
  },
  {
   "cell_type": "code",
   "execution_count": 3,
   "id": "9811d7a3",
   "metadata": {},
   "outputs": [
    {
     "name": "stdout",
     "output_type": "stream",
     "text": [
      "Running test case 0 with input '[[[2,2,2,2],[1,2,1,1]],[[3,4,5,6]]]'...\n",
      "Correct!\n",
      "Running test case 1 with input '[[[2,2,2,2]],[[3,4,5,6]]]'...\n",
      "Correct!\n"
     ]
    }
   ],
   "source": [
    "# These functions are responsible for testing the solution.\n",
    "\n",
    "def run(test_case_input: str) -> str:\n",
    "\n",
    "    ins = json.loads(test_case_input)\n",
    "    output = fourier_decomp(ins)\n",
    "\n",
    "    return str(output)\n",
    "\n",
    "def check(solution_output: str, expected_output: str) -> None:\n",
    "    \"\"\"\n",
    "    Compare solution with expected.\n",
    "\n",
    "    Args:\n",
    "            solution_output: The output from an evaluated solution. Will be\n",
    "            the same type as returned.\n",
    "            expected_output: The correct result for the test case.\n",
    "\n",
    "    Raises:\n",
    "            ``AssertionError`` if the solution output is incorrect in any way.\n",
    "    \"\"\"\n",
    "\n",
    "    solution_output = json.loads(solution_output)\n",
    "    expected_output = json.loads(expected_output)\n",
    "    assert np.allclose(\n",
    "        solution_output, expected_output, rtol=1e-2\n",
    "    ), \"Your calculated Fourier spectrum isn't quite right.\"\n",
    "\n",
    "\n",
    "test_cases = [['[[[2,2,2,2],[1,2,1,1]],[[3,4,5,6]]]', '[[-4.0, -2.4671622769447922e-17, -1.2335811384723961e-17], [-3.0, -0.03395647263976357, 0.010208410500915437], [-2.0, 2.8360500437920326e-17, 1.850371707708594e-17], [-1.0, 0.11762992558035439, -0.13619443127813127], [0.0, 8.018277400070575e-17, 0.0], [1.0, 0.11762992558035439, 0.13619443127813124], [2.0, 3.700743415417188e-17, -1.850371707708594e-17], [3.0, -0.03395647263976357, -0.010208410500915437],[4.0, -3.688877668472405e-18, 1.850371707708594e-17]]'], ['[[[2,2,2,2]],[[3,4,5,6]]]', '[[-4.0, 1.2335811384723961e-17, 3.700743415417188e-17],  [-3.0, 0.022482345076620468, -0.07855141721016852], [-2.0, -1.2335811384723961e-17, -6.536793459209221e-17], [-1.0, -0.13243693333822854, 0.17097830099559677], [0.0, -2.4671622769447922e-17, 0.0], [1.0, -0.13243693333822854, -0.17097830099559677], [2.0, -2.4671622769447922e-17, 7.401486830834377e-17], [3.0, 0.022482345076620468, 0.07855141721016852], [4.0, -1.2335811384723961e-17, -3.331855648569948e-17]]']]\n",
    "\n",
    "for i, (input_, expected_output) in enumerate(test_cases):\n",
    "    print(f\"Running test case {i} with input '{input_}'...\")\n",
    "\n",
    "    try:\n",
    "        output = run(input_)\n",
    "\n",
    "    except Exception as exc:\n",
    "        print(f\"Runtime Error. {exc}\")\n",
    "\n",
    "    else:\n",
    "        if message := check(output, expected_output):\n",
    "            print(f\"Wrong Answer. Have: '{output}'. Want: '{expected_output}'.\")\n",
    "\n",
    "        else:\n",
    "            print(\"Correct!\")"
   ]
  },
  {
   "cell_type": "code",
   "execution_count": 45,
   "id": "3155f65b",
   "metadata": {},
   "outputs": [
    {
     "data": {
      "text/plain": [
       "tensor([ 0.5 , -0.  ,  0.25, -0.  , -0.  ,  0.  ,  0.  , -0.  , -0.  ,\n",
       "         0.25, -0.  ], requires_grad=True)"
      ]
     },
     "execution_count": 45,
     "metadata": {},
     "output_type": "execute_result"
    }
   ],
   "source": [
    "np.round(coeffs.real,2)"
   ]
  },
  {
   "cell_type": "code",
   "execution_count": 44,
   "id": "f9ce1e34",
   "metadata": {},
   "outputs": [
    {
     "data": {
      "text/plain": [
       "[-2.0, -1.0, 0, 1.0, 2.0]"
      ]
     },
     "execution_count": 44,
     "metadata": {},
     "output_type": "execute_result"
    }
   ],
   "source": [
    "qml.fourier.circuit_spectrum(simple_circuit)([0.1])['x']"
   ]
  },
  {
   "cell_type": "code",
   "execution_count": 47,
   "id": "78a454b0",
   "metadata": {},
   "outputs": [
    {
     "data": {
      "text/plain": [
       "array([], dtype=float64)"
      ]
     },
     "execution_count": 47,
     "metadata": {},
     "output_type": "execute_result"
    }
   ],
   "source": [
    "n = len(coeffs)\n"
   ]
  },
  {
   "cell_type": "code",
   "execution_count": 14,
   "id": "77c9b9b9",
   "metadata": {},
   "outputs": [],
   "source": [
    "a = np.array([[2, 3, 4]])"
   ]
  },
  {
   "cell_type": "code",
   "execution_count": 15,
   "id": "13dd4582",
   "metadata": {},
   "outputs": [
    {
     "data": {
      "text/plain": [
       "(1, 3)"
      ]
     },
     "execution_count": 15,
     "metadata": {},
     "output_type": "execute_result"
    }
   ],
   "source": [
    "a.shape"
   ]
  },
  {
   "cell_type": "code",
   "execution_count": null,
   "id": "c2da620a",
   "metadata": {},
   "outputs": [],
   "source": []
  }
 ],
 "metadata": {
  "kernelspec": {
   "display_name": "Python 3 (ipykernel)",
   "language": "python",
   "name": "python3"
  },
  "language_info": {
   "codemirror_mode": {
    "name": "ipython",
    "version": 3
   },
   "file_extension": ".py",
   "mimetype": "text/x-python",
   "name": "python",
   "nbconvert_exporter": "python",
   "pygments_lexer": "ipython3",
   "version": "3.9.12"
  }
 },
 "nbformat": 4,
 "nbformat_minor": 5
}
