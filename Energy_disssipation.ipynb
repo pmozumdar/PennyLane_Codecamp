{
 "cells": [
  {
   "cell_type": "code",
   "execution_count": 1,
   "id": "acf80f0f",
   "metadata": {},
   "outputs": [],
   "source": [
    "import functools\n",
    "import json\n",
    "import math\n",
    "import pandas as pd\n",
    "import pennylane as qml\n",
    "import pennylane.numpy as np\n",
    "import scipy"
   ]
  },
  {
   "cell_type": "code",
   "execution_count": 2,
   "id": "daf0ba20",
   "metadata": {},
   "outputs": [],
   "source": [
    "def circuit(circuit_param):\n",
    "    qml.RY(circuit_param, wires=0)\n",
    "    qml.Hadamard(wires=0)\n",
    "    qml.T(wires=0)\n",
    "    \n",
    "\n",
    "\n",
    "def state_purity(angle, phase, circuit_param, noise_param):\n",
    "\n",
    "    \"\"\"\n",
    "    This function returns the purity of the output state after adding noise\n",
    "    to the given circuit().\n",
    "\n",
    "    Args:\n",
    "        angle (float): The angle theta that parametrizes the initial quantum state\n",
    "        phase (float): The phase phi that parametrizes the initial quantum state\n",
    "        circuit_param (float): The angle that paramterizes the RY rotation in circuit(alpha)\n",
    "        noise_param (float): The angle that paramterizes the CRX gate in the circuit modelling the noise\n",
    "\n",
    "    Returns:\n",
    "        (float): Purity of the state after going through the noisy circuit\n",
    "    \"\"\"\n",
    "\n",
    "    def noise(noise_param):#, wires):\n",
    "\n",
    "        \"\"\"Implements the circuit that models the noise added after each gate. Do not return anything.\"\"\"\n",
    "\n",
    "        # Put your code here #\n",
    "        qml.CRX(noise_param, wires=[0,1])\n",
    "        qml.CNOT(wires=[1, 0])\n",
    "        #print('yes')\n",
    "\n",
    "    dev = qml.device(\"default.mixed\", wires=2)\n",
    "\n",
    "    @qml.qnode(dev)\n",
    "    def noisy_circuit(angle, phase, circuit_param, noise_param):\n",
    "\n",
    "        \"\"\"Implements transformed circuit with state preparation at the beginning, and noise inserted\n",
    "        after each gate.\n",
    "\n",
    "        Returns: Whatever is useful for you to calculate the purity!\"\"\"\n",
    "\n",
    "        # Put your code here #\n",
    "        # Don't forget to prepare the initial state\n",
    "        # If you use a quantum transform to add noise, use it within this circuit\n",
    "        #qml.ArbitraryStatePreparation([angle, phase], wires=[0])\n",
    "        qml.RY(angle, wires=0)\n",
    "        qml.RZ(phase, wires=0)\n",
    "        #d_noise = qml.transforms.insert(noise(), (noise_param, 2), position='all')(circuit(circuit_param))\n",
    "        qml.RY(circuit_param, wires=0)\n",
    "        noise(noise_param)#, wires)\n",
    "        qml.Hadamard(wires=0)\n",
    "        noise(noise_param)#, wires)\n",
    "        qml.T(wires=0)\n",
    "        noise(noise_param)#, wires)\n",
    "        \n",
    "        return qml.density_matrix([0])#qml.expval(qml.PauliZ(0))\n",
    "        \n",
    "    # Feel free to add here any code or helper functions, if you need them.\n",
    "    \n",
    "    #fig, ax = qml.draw_mpl(noisy_circuit)(angle, phase, circuit_param, noise_param)\n",
    "    #fig.show()\n",
    "    den_mat = noisy_circuit(angle, phase, circuit_param, noise_param)\n",
    "    #print(den_mat, np.trace(np.dot(den_mat, den_mat)), np.abs(np.trace(den_mat**2)))\n",
    "    \n",
    "    return  np.trace(np.dot(den_mat, den_mat)).real# Return the purity in terms of the calculated expectation values.\n"
   ]
  },
  {
   "cell_type": "code",
   "execution_count": 3,
   "id": "7dda6a8d",
   "metadata": {},
   "outputs": [
    {
     "name": "stdout",
     "output_type": "stream",
     "text": [
      "Running test case 0 with input '[0.1,0.2,0.3,0.4]'...\n",
      "Correct!\n",
      "Running test case 1 with input '[0.5,0.3,0.5,0.7]'...\n",
      "Correct!\n"
     ]
    }
   ],
   "source": [
    "def run(test_case_input: str) -> str:\n",
    "\n",
    "    ins = json.loads(test_case_input)\n",
    "    output = state_purity(*ins)\n",
    "\n",
    "    return str(np.real_if_close(output))\n",
    "\n",
    "def check(solution_output: str, expected_output: str) -> None:\n",
    "    \"\"\"\n",
    "    Compare solution with expected.\n",
    "\n",
    "    Args:\n",
    "            solution_output: The output from an evaluated solution. Will be\n",
    "            the same type as returned.\n",
    "            expected_output: The correct result for the test case.\n",
    "\n",
    "    Raises:\n",
    "            ``AssertionError`` if the solution output is incorrect in any way.\n",
    "    \"\"\"\n",
    "\n",
    "    solution_output = json.loads(solution_output)\n",
    "    expected_output = json.loads(expected_output)\n",
    "    assert np.allclose(\n",
    "        solution_output, expected_output, rtol=1e-2\n",
    "    ), \"Your calculated purity isn't quite right.\"\n",
    "    \n",
    "    \n",
    "test_cases = [['[0.1,0.2,0.3,0.4]', '0.9647'], ['[0.5,0.3,0.5,0.7]', '0.928356']]\n",
    "\n",
    "for i, (input_, expected_output) in enumerate(test_cases):\n",
    "    print(f\"Running test case {i} with input '{input_}'...\")\n",
    "\n",
    "    try:\n",
    "        output = run(input_)\n",
    "\n",
    "    except Exception as exc:\n",
    "        print(f\"Runtime Error. {exc}\")\n",
    "\n",
    "    else:\n",
    "        if message := check(output, expected_output):\n",
    "            print(f\"Wrong Answer. Have: '{output}'. Want: '{expected_output}'.\")\n",
    "\n",
    "        else:\n",
    "            print(\"Correct!\")"
   ]
  },
  {
   "cell_type": "code",
   "execution_count": 127,
   "id": "0b09b8bc",
   "metadata": {},
   "outputs": [
    {
     "data": {
      "text/plain": [
       "0.9646990137755171"
      ]
     },
     "execution_count": 127,
     "metadata": {},
     "output_type": "execute_result"
    }
   ],
   "source": [
    "state_purity(0.1,0.2,0.3,0.4)"
   ]
  },
  {
   "cell_type": "code",
   "execution_count": 104,
   "id": "557479d5",
   "metadata": {},
   "outputs": [],
   "source": [
    "def op(x, y, wires):\n",
    "    qml.RX(x, wires=wires)\n",
    "    qml.PhaseShift(y, wires=wires)"
   ]
  },
  {
   "cell_type": "code",
   "execution_count": 107,
   "id": "aea38e01",
   "metadata": {},
   "outputs": [],
   "source": [
    "dev = qml.device(\"default.qubit\", wires=2)\n",
    "\n",
    "@qml.qnode(dev)\n",
    "#@qml.transforms.insert(op, [0.2, 0.3], position=\"end\")\n",
    "def f(w, x, y, z):\n",
    "    qml.RX(w, wires=0)\n",
    "    qml.RY(x, wires=1)\n",
    "    qml.CNOT(wires=[0, 1])\n",
    "    qml.RY(y, wires=0)\n",
    "    qml.RX(z, wires=1)\n",
    "    return qml.expval(qml.PauliZ(0) @ qml.PauliZ(1))"
   ]
  },
  {
   "cell_type": "code",
   "execution_count": 106,
   "id": "55f46591",
   "metadata": {},
   "outputs": [
    {
     "name": "stdout",
     "output_type": "stream",
     "text": [
      "0: ──RX(0.90)─╭●──RY(0.50)──RX(0.20)──Rϕ(0.30)─┤ ╭<Z@Z>\n",
      "1: ──RY(0.40)─╰X──RX(0.60)──RX(0.20)──Rϕ(0.30)─┤ ╰<Z@Z>\n"
     ]
    }
   ],
   "source": [
    "print(qml.draw(f)(0.9, 0.4, 0.5, 0.6))"
   ]
  },
  {
   "cell_type": "code",
   "execution_count": 113,
   "id": "c097ab42",
   "metadata": {},
   "outputs": [],
   "source": [
    "dev_noisy = qml.transforms.insert(op, 0.9, 0.4, position='all')(dev)\n",
    "qnode_noisy = qml.QNode(f, dev_noisy)\n",
    "#qnode_noisy(0.9, 0.4, 0.5, 0.6)"
   ]
  },
  {
   "cell_type": "code",
   "execution_count": 114,
   "id": "138333b8",
   "metadata": {},
   "outputs": [
    {
     "name": "stdout",
     "output_type": "stream",
     "text": [
      "0: ──RX(0.90)─╭●──RY(0.50)─┤ ╭<Z@Z>\n",
      "1: ──RY(0.40)─╰X──RX(0.60)─┤ ╰<Z@Z>\n"
     ]
    }
   ],
   "source": [
    "print(qml.draw(qnode_noisy)(0.9, 0.4, 0.5, 0.6))"
   ]
  },
  {
   "cell_type": "code",
   "execution_count": null,
   "id": "59590a5d",
   "metadata": {},
   "outputs": [],
   "source": [
    "fig, ax = qml.draw_mpl(noisy_circuit)(angle, phase, circuit_param, noise_param)\n",
    "fig.show()"
   ]
  }
 ],
 "metadata": {
  "kernelspec": {
   "display_name": "Python 3 (ipykernel)",
   "language": "python",
   "name": "python3"
  },
  "language_info": {
   "codemirror_mode": {
    "name": "ipython",
    "version": 3
   },
   "file_extension": ".py",
   "mimetype": "text/x-python",
   "name": "python",
   "nbconvert_exporter": "python",
   "pygments_lexer": "ipython3",
   "version": "3.9.12"
  }
 },
 "nbformat": 4,
 "nbformat_minor": 5
}
